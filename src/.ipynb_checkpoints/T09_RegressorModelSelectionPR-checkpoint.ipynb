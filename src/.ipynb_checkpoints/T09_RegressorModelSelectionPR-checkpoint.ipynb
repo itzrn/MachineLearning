{
 "cells": [
  {
   "cell_type": "markdown",
   "id": "e8192f8c",
   "metadata": {},
   "source": [
    "# Polynomial Regression"
   ]
  },
  {
   "cell_type": "markdown",
   "id": "61e0acdf",
   "metadata": {},
   "source": [
    "Importing Library to access dataset"
   ]
  },
  {
   "cell_type": "code",
   "execution_count": 1,
   "id": "3007176d",
   "metadata": {},
   "outputs": [],
   "source": [
    "import pandas as pd"
   ]
  },
  {
   "cell_type": "markdown",
   "id": "2a961246",
   "metadata": {},
   "source": [
    "Importing dataset"
   ]
  },
  {
   "cell_type": "code",
   "execution_count": 2,
   "id": "0fbabb1e",
   "metadata": {},
   "outputs": [],
   "source": [
    "dataset = pd.read_csv(\"Datasets/T09_Data.csv\")"
   ]
  },
  {
   "cell_type": "markdown",
   "id": "30c2a9c8",
   "metadata": {},
   "source": [
    "Reading X_features and y_outcome"
   ]
  },
  {
   "cell_type": "code",
   "execution_count": 3,
   "id": "9c86c7fd",
   "metadata": {},
   "outputs": [],
   "source": [
    "X_features = dataset.iloc[:,:-1].values\n",
    "y_outcome = dataset.iloc[:, [-1]].values"
   ]
  },
  {
   "cell_type": "markdown",
   "id": "f06710aa",
   "metadata": {},
   "source": [
    "Checking is there any missing value in the dataset"
   ]
  },
  {
   "cell_type": "code",
   "execution_count": 4,
   "id": "1c02dd2e",
   "metadata": {},
   "outputs": [
    {
     "name": "stdout",
     "output_type": "stream",
     "text": [
      "AT    0\n",
      "V     0\n",
      "AP    0\n",
      "RH    0\n",
      "PE    0\n",
      "dtype: int64\n"
     ]
    }
   ],
   "source": [
    "print(dataset.isnull().sum())"
   ]
  },
  {
   "cell_type": "markdown",
   "id": "6b7d555c",
   "metadata": {},
   "source": [
    "Printing some data of the X_features and y_outcome"
   ]
  },
  {
   "cell_type": "code",
   "execution_count": 5,
   "id": "876104f2",
   "metadata": {},
   "outputs": [
    {
     "name": "stdout",
     "output_type": "stream",
     "text": [
      "X_features ->\n",
      " [[  14.96   41.76 1024.07   73.17]\n",
      " [  25.18   62.96 1020.04   59.08]\n",
      " [   5.11   39.4  1012.16   92.14]\n",
      " [  20.86   57.32 1010.24   76.64]\n",
      " [  10.82   37.5  1009.23   96.62]]\n",
      "y_outcome ->\n",
      " [[463.26]\n",
      " [444.37]\n",
      " [488.56]\n",
      " [446.48]\n",
      " [473.9 ]]\n"
     ]
    }
   ],
   "source": [
    "print(\"X_features ->\\n\", X_features[:5, :])\n",
    "print(\"y_outcome ->\\n\", y_outcome[:5, :])"
   ]
  },
  {
   "cell_type": "markdown",
   "id": "fe7bc1ab",
   "metadata": {},
   "source": [
    "Checking type of X_features and y_outcome"
   ]
  },
  {
   "cell_type": "code",
   "execution_count": 6,
   "id": "e99da52f",
   "metadata": {},
   "outputs": [
    {
     "name": "stdout",
     "output_type": "stream",
     "text": [
      "X_features --> <class 'numpy.ndarray'>\n",
      "y_outcome --> <class 'numpy.ndarray'>\n"
     ]
    }
   ],
   "source": [
    "print(\"X_features -->\", type(X_features))\n",
    "print(\"y_outcome -->\", type(y_outcome))"
   ]
  },
  {
   "cell_type": "markdown",
   "id": "1a47940f",
   "metadata": {},
   "source": [
    "# Splitting the dataset into training set and test set"
   ]
  },
  {
   "cell_type": "markdown",
   "id": "49e32afa",
   "metadata": {},
   "source": [
    "Importing train_test_split model\n"
   ]
  },
  {
   "cell_type": "code",
   "execution_count": 7,
   "id": "32037a37",
   "metadata": {},
   "outputs": [],
   "source": [
    "from sklearn.model_selection import train_test_split\n",
    "X_train, X_test, y_train, y_test= train_test_split(X_features, y_outcome, test_size=0.2, random_state=0)"
   ]
  },
  {
   "cell_type": "code",
   "execution_count": 8,
   "id": "96ff10f3",
   "metadata": {},
   "outputs": [
    {
     "name": "stdout",
     "output_type": "stream",
     "text": [
      "X_train -->\n",
      " [[  11.22   43.13 1017.24   80.9 ]\n",
      " [  13.67   54.3  1015.92   75.42]\n",
      " [  32.84   77.95 1014.68   45.8 ]\n",
      " [  31.91   67.83 1008.76   53.22]\n",
      " [  10.37   37.5  1013.19   79.25]\n",
      " [  12.16   40.81 1025.79   70.97]\n",
      " [  16.13   39.99 1007.04   80.49]\n",
      " [  12.75   42.34 1018.17   94.67]\n",
      " [  11.62   41.54 1019.94   66.43]\n",
      " [  26.17   48.92 1009.87   34.43]]\n",
      "X_test --> \n",
      " [[  28.66   77.95 1009.56   69.07]\n",
      " [  17.48   49.39 1021.51   84.53]\n",
      " [  14.86   43.14 1019.21   99.14]\n",
      " [  22.46   58.33 1013.21   68.68]\n",
      " [  18.38   55.28 1020.22   68.33]\n",
      " [  30.89   74.87 1008.99   56.58]\n",
      " [  11.74   43.56 1015.14   70.72]\n",
      " [  18.97   50.59 1016.01   74.9 ]\n",
      " [  11.42   41.54 1020.21   71.57]\n",
      " [  23.89   50.16 1004.88   73.94]]\n",
      "y_train --> \n",
      " [[473.93]\n",
      " [467.87]\n",
      " [431.97]\n",
      " [425.28]\n",
      " [473.1 ]\n",
      " [476.63]\n",
      " [465.25]\n",
      " [465.44]\n",
      " [477.75]\n",
      " [440.09]]\n",
      "y_test -->\n",
      " [[431.23]\n",
      " [460.01]\n",
      " [461.14]\n",
      " [445.9 ]\n",
      " [451.29]\n",
      " [432.68]\n",
      " [477.5 ]\n",
      " [459.68]\n",
      " [477.5 ]\n",
      " [444.99]]\n"
     ]
    }
   ],
   "source": [
    "# printing some data of X_train, X_test, y_train, y_test\n",
    "print(\"X_train -->\\n\", X_train[:10, :])\n",
    "print(\"X_test --> \\n\", X_test[:10, :])\n",
    "print(\"y_train --> \\n\", y_train[:10, :])\n",
    "print(\"y_test -->\\n\", y_test[:10, :])"
   ]
  },
  {
   "cell_type": "markdown",
   "id": "376143d3",
   "metadata": {},
   "source": [
    "# Training The Polynomial Regression model on the Training set"
   ]
  },
  {
   "cell_type": "markdown",
   "id": "d09b2403",
   "metadata": {},
   "source": [
    "Importing Library of Polynomail Rgression"
   ]
  },
  {
   "cell_type": "code",
   "execution_count": 9,
   "id": "30ae24db",
   "metadata": {},
   "outputs": [],
   "source": [
    "from sklearn.preprocessing import PolynomialFeatures"
   ]
  },
  {
   "cell_type": "markdown",
   "id": "183c3e42",
   "metadata": {},
   "source": [
    "Creating instanse of the polynomial Regression model"
   ]
  },
  {
   "cell_type": "code",
   "execution_count": 10,
   "id": "7c61eb8c",
   "metadata": {},
   "outputs": [],
   "source": [
    "poly_reg = PolynomialFeatures(degree=4)\n",
    "X_poly = poly_reg.fit_transform(X_train)"
   ]
  },
  {
   "cell_type": "markdown",
   "id": "7fdc7479",
   "metadata": {},
   "source": [
    "Importing Linear Regression Model"
   ]
  },
  {
   "cell_type": "code",
   "execution_count": 13,
   "id": "79350779",
   "metadata": {},
   "outputs": [],
   "source": [
    "from sklearn.linear_model import LinearRegression"
   ]
  },
  {
   "cell_type": "markdown",
   "id": "305c00ed",
   "metadata": {},
   "source": [
    "Making the instance of the linear regression"
   ]
  },
  {
   "cell_type": "code",
   "execution_count": 14,
   "id": "faf06fe3",
   "metadata": {},
   "outputs": [],
   "source": [
    "lin_reg = LinearRegression()"
   ]
  },
  {
   "cell_type": "markdown",
   "id": "006be024",
   "metadata": {},
   "source": [
    "Fitting the Linear Regression model on X_poly and y_train"
   ]
  },
  {
   "cell_type": "code",
   "execution_count": 15,
   "id": "727e5973",
   "metadata": {},
   "outputs": [
    {
     "data": {
      "text/html": [
       "<style>#sk-container-id-1 {color: black;background-color: white;}#sk-container-id-1 pre{padding: 0;}#sk-container-id-1 div.sk-toggleable {background-color: white;}#sk-container-id-1 label.sk-toggleable__label {cursor: pointer;display: block;width: 100%;margin-bottom: 0;padding: 0.3em;box-sizing: border-box;text-align: center;}#sk-container-id-1 label.sk-toggleable__label-arrow:before {content: \"▸\";float: left;margin-right: 0.25em;color: #696969;}#sk-container-id-1 label.sk-toggleable__label-arrow:hover:before {color: black;}#sk-container-id-1 div.sk-estimator:hover label.sk-toggleable__label-arrow:before {color: black;}#sk-container-id-1 div.sk-toggleable__content {max-height: 0;max-width: 0;overflow: hidden;text-align: left;background-color: #f0f8ff;}#sk-container-id-1 div.sk-toggleable__content pre {margin: 0.2em;color: black;border-radius: 0.25em;background-color: #f0f8ff;}#sk-container-id-1 input.sk-toggleable__control:checked~div.sk-toggleable__content {max-height: 200px;max-width: 100%;overflow: auto;}#sk-container-id-1 input.sk-toggleable__control:checked~label.sk-toggleable__label-arrow:before {content: \"▾\";}#sk-container-id-1 div.sk-estimator input.sk-toggleable__control:checked~label.sk-toggleable__label {background-color: #d4ebff;}#sk-container-id-1 div.sk-label input.sk-toggleable__control:checked~label.sk-toggleable__label {background-color: #d4ebff;}#sk-container-id-1 input.sk-hidden--visually {border: 0;clip: rect(1px 1px 1px 1px);clip: rect(1px, 1px, 1px, 1px);height: 1px;margin: -1px;overflow: hidden;padding: 0;position: absolute;width: 1px;}#sk-container-id-1 div.sk-estimator {font-family: monospace;background-color: #f0f8ff;border: 1px dotted black;border-radius: 0.25em;box-sizing: border-box;margin-bottom: 0.5em;}#sk-container-id-1 div.sk-estimator:hover {background-color: #d4ebff;}#sk-container-id-1 div.sk-parallel-item::after {content: \"\";width: 100%;border-bottom: 1px solid gray;flex-grow: 1;}#sk-container-id-1 div.sk-label:hover label.sk-toggleable__label {background-color: #d4ebff;}#sk-container-id-1 div.sk-serial::before {content: \"\";position: absolute;border-left: 1px solid gray;box-sizing: border-box;top: 0;bottom: 0;left: 50%;z-index: 0;}#sk-container-id-1 div.sk-serial {display: flex;flex-direction: column;align-items: center;background-color: white;padding-right: 0.2em;padding-left: 0.2em;position: relative;}#sk-container-id-1 div.sk-item {position: relative;z-index: 1;}#sk-container-id-1 div.sk-parallel {display: flex;align-items: stretch;justify-content: center;background-color: white;position: relative;}#sk-container-id-1 div.sk-item::before, #sk-container-id-1 div.sk-parallel-item::before {content: \"\";position: absolute;border-left: 1px solid gray;box-sizing: border-box;top: 0;bottom: 0;left: 50%;z-index: -1;}#sk-container-id-1 div.sk-parallel-item {display: flex;flex-direction: column;z-index: 1;position: relative;background-color: white;}#sk-container-id-1 div.sk-parallel-item:first-child::after {align-self: flex-end;width: 50%;}#sk-container-id-1 div.sk-parallel-item:last-child::after {align-self: flex-start;width: 50%;}#sk-container-id-1 div.sk-parallel-item:only-child::after {width: 0;}#sk-container-id-1 div.sk-dashed-wrapped {border: 1px dashed gray;margin: 0 0.4em 0.5em 0.4em;box-sizing: border-box;padding-bottom: 0.4em;background-color: white;}#sk-container-id-1 div.sk-label label {font-family: monospace;font-weight: bold;display: inline-block;line-height: 1.2em;}#sk-container-id-1 div.sk-label-container {text-align: center;}#sk-container-id-1 div.sk-container {/* jupyter's `normalize.less` sets `[hidden] { display: none; }` but bootstrap.min.css set `[hidden] { display: none !important; }` so we also need the `!important` here to be able to override the default hidden behavior on the sphinx rendered scikit-learn.org. See: https://github.com/scikit-learn/scikit-learn/issues/21755 */display: inline-block !important;position: relative;}#sk-container-id-1 div.sk-text-repr-fallback {display: none;}</style><div id=\"sk-container-id-1\" class=\"sk-top-container\"><div class=\"sk-text-repr-fallback\"><pre>LinearRegression()</pre><b>In a Jupyter environment, please rerun this cell to show the HTML representation or trust the notebook. <br />On GitHub, the HTML representation is unable to render, please try loading this page with nbviewer.org.</b></div><div class=\"sk-container\" hidden><div class=\"sk-item\"><div class=\"sk-estimator sk-toggleable\"><input class=\"sk-toggleable__control sk-hidden--visually\" id=\"sk-estimator-id-1\" type=\"checkbox\" checked><label for=\"sk-estimator-id-1\" class=\"sk-toggleable__label sk-toggleable__label-arrow\">LinearRegression</label><div class=\"sk-toggleable__content\"><pre>LinearRegression()</pre></div></div></div></div></div>"
      ],
      "text/plain": [
       "LinearRegression()"
      ]
     },
     "execution_count": 15,
     "metadata": {},
     "output_type": "execute_result"
    }
   ],
   "source": [
    "lin_reg.fit(X_poly, y_train)"
   ]
  },
  {
   "cell_type": "markdown",
   "id": "b74e3c29",
   "metadata": {},
   "source": [
    "printing the coefficient's and intercept of the linear model"
   ]
  },
  {
   "cell_type": "code",
   "execution_count": 17,
   "id": "3d830d78",
   "metadata": {},
   "outputs": [
    {
     "name": "stdout",
     "output_type": "stream",
     "text": [
      "Coefficients ->\n",
      " [[ 1.30600766e-04 -1.42802841e-01 -2.32101751e-01  5.86709460e-02\n",
      "  -1.47054188e-01 -1.06112422e+02 -1.17325019e+02  1.40915557e+01\n",
      "  -8.43598641e+01  1.01138995e+02 -9.25209817e+00  6.99568607e+00\n",
      "  -4.06409216e-01  5.28521160e-01  2.91414132e-01 -2.48473858e-01\n",
      "   6.51053201e-01  1.98396354e-01 -8.39585697e-02 -1.09264925e-01\n",
      "   2.06942808e-01  1.46196981e-01 -2.72619995e-02  1.71650313e-01\n",
      "  -5.28191715e-02 -2.57967630e-02 -1.91755967e-01 -8.52131637e-03\n",
      "   1.82853156e-02 -2.04743834e-02  2.89442901e-02  4.53514524e-04\n",
      "  -1.01346415e-03  4.41857057e-04 -5.34870320e-03 -1.71075371e-04\n",
      "   1.21450908e-04  2.48184962e-04  2.76283819e-05 -1.52535564e-04\n",
      "  -6.28578587e-04 -2.22313749e-05 -9.25108171e-05  7.51562538e-05\n",
      "   3.49247955e-05  5.41105782e-05  1.05370670e-04 -3.31119173e-05\n",
      "  -9.04507173e-05 -1.35607558e-04 -1.58762885e-05  1.31802334e-05\n",
      "  -8.69687752e-05  4.73435335e-05  1.85348111e-05 -7.78132219e-06\n",
      "   2.63593705e-05  6.34005325e-06  9.07029768e-05  7.42589863e-06\n",
      "   9.91773303e-07 -9.02775512e-06  1.33467660e-05 -2.84894738e-05\n",
      "   1.28629228e-06 -1.36997145e-07  4.77152945e-07 -5.58917868e-07\n",
      "   4.20221456e-06  2.10697991e-06]]\n",
      "\n",
      "Intercept ->\n",
      " [90357.42019948]\n"
     ]
    }
   ],
   "source": [
    "print(\"Coefficients ->\\n\", lin_reg.coef_)\n",
    "print()\n",
    "print(\"Intercept ->\\n\", lin_reg.intercept_)"
   ]
  },
  {
   "cell_type": "code",
   "execution_count": 18,
   "id": "dc8c469c",
   "metadata": {},
   "outputs": [],
   "source": [
    "y_pred = lin_reg.predict(poly_reg.transform(X_test))"
   ]
  },
  {
   "cell_type": "markdown",
   "id": "32df2b37",
   "metadata": {},
   "source": [
    "Compiring some data of y_pred with y_test\n"
   ]
  },
  {
   "cell_type": "code",
   "execution_count": 19,
   "id": "b38236cd",
   "metadata": {},
   "outputs": [],
   "source": [
    "import numpy as np"
   ]
  },
  {
   "cell_type": "code",
   "execution_count": 20,
   "id": "9a0a65e4",
   "metadata": {},
   "outputs": [
    {
     "name": "stdout",
     "output_type": "stream",
     "text": [
      "[[433.94371262 431.23      ]\n",
      " [457.90456387 460.01      ]\n",
      " [460.5247115  461.14      ]\n",
      " [447.56526801 445.9       ]\n",
      " [457.21520997 451.29      ]\n",
      " [433.73671267 432.68      ]\n",
      " [473.59033856 477.5       ]\n",
      " [456.55480963 459.68      ]\n",
      " [474.75479152 477.5       ]\n",
      " [443.12074635 444.99      ]]\n"
     ]
    }
   ],
   "source": [
    "print(np.concatenate((y_pred.reshape(len(y_pred), 1), y_test.reshape(len(y_test), 1)), 1)[:10,:])\n",
    "#  printing the predicted value and the test value in two column so we can compare the values"
   ]
  },
  {
   "cell_type": "markdown",
   "id": "0157df6f",
   "metadata": {},
   "source": [
    "# Evaluating The Model Performance"
   ]
  },
  {
   "cell_type": "markdown",
   "id": "0f56a6f2",
   "metadata": {},
   "source": [
    "Importing r2_score error model to know the goodness of our model\n"
   ]
  },
  {
   "cell_type": "code",
   "execution_count": 21,
   "id": "cf0b4896",
   "metadata": {},
   "outputs": [],
   "source": [
    "from sklearn.metrics import r2_score as r"
   ]
  },
  {
   "cell_type": "code",
   "execution_count": 22,
   "id": "a9bc7044",
   "metadata": {},
   "outputs": [],
   "source": [
    "accuracy = r(y_test, y_pred)"
   ]
  },
  {
   "cell_type": "code",
   "execution_count": 24,
   "id": "ce4140c9",
   "metadata": {},
   "outputs": [
    {
     "name": "stdout",
     "output_type": "stream",
     "text": [
      "0.9458193347147237\n"
     ]
    }
   ],
   "source": [
    "print(accuracy)  # means 94.58% our model is accurate, which is greater than the MLR model we saw."
   ]
  }
 ],
 "metadata": {
  "kernelspec": {
   "display_name": "Python 3 (ipykernel)",
   "language": "python",
   "name": "python3"
  },
  "language_info": {
   "codemirror_mode": {
    "name": "ipython",
    "version": 3
   },
   "file_extension": ".py",
   "mimetype": "text/x-python",
   "name": "python",
   "nbconvert_exporter": "python",
   "pygments_lexer": "ipython3",
   "version": "3.11.3"
  }
 },
 "nbformat": 4,
 "nbformat_minor": 5
}
