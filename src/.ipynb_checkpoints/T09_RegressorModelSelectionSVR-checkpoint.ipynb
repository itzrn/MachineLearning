{
 "cells": [
  {
   "cell_type": "markdown",
   "id": "8db6179f",
   "metadata": {},
   "source": [
    "# Support Vector Regression"
   ]
  },
  {
   "cell_type": "markdown",
   "id": "1e10e59c",
   "metadata": {},
   "source": [
    "Importing Library to access dataset"
   ]
  },
  {
   "cell_type": "code",
   "execution_count": 1,
   "id": "04cd5c21",
   "metadata": {},
   "outputs": [],
   "source": [
    "import pandas as pd"
   ]
  },
  {
   "cell_type": "markdown",
   "id": "465aca16",
   "metadata": {},
   "source": [
    "Importing dataset\n"
   ]
  },
  {
   "cell_type": "code",
   "execution_count": 2,
   "id": "a6306d4d",
   "metadata": {},
   "outputs": [],
   "source": [
    "dataset = pd.read_csv(\"Datasets/T09_Data.csv\")"
   ]
  },
  {
   "cell_type": "markdown",
   "id": "38a969d3",
   "metadata": {},
   "source": [
    "Checking is there any missing value in the dataset\n"
   ]
  },
  {
   "cell_type": "code",
   "execution_count": 3,
   "id": "cbb52a45",
   "metadata": {},
   "outputs": [
    {
     "name": "stdout",
     "output_type": "stream",
     "text": [
      "AT    0\n",
      "V     0\n",
      "AP    0\n",
      "RH    0\n",
      "PE    0\n",
      "dtype: int64\n"
     ]
    }
   ],
   "source": [
    "print(dataset.isnull().sum())"
   ]
  },
  {
   "cell_type": "markdown",
   "id": "85d746b2",
   "metadata": {},
   "source": [
    "Reading X_features and y_outcome\n"
   ]
  },
  {
   "cell_type": "code",
   "execution_count": 4,
   "id": "c1a71d14",
   "metadata": {},
   "outputs": [],
   "source": [
    "X_features = dataset.iloc[:,:-1].values\n",
    "y_outcome = dataset.iloc[:, [-1]].values"
   ]
  },
  {
   "cell_type": "markdown",
   "id": "73d5a441",
   "metadata": {},
   "source": [
    "Printing some data of the X_features and y_outcome\n"
   ]
  },
  {
   "cell_type": "code",
   "execution_count": 5,
   "id": "4c8c0d36",
   "metadata": {},
   "outputs": [
    {
     "name": "stdout",
     "output_type": "stream",
     "text": [
      "X_features ->\n",
      " [[  14.96   41.76 1024.07   73.17]\n",
      " [  25.18   62.96 1020.04   59.08]\n",
      " [   5.11   39.4  1012.16   92.14]\n",
      " [  20.86   57.32 1010.24   76.64]\n",
      " [  10.82   37.5  1009.23   96.62]]\n",
      "y_outcome ->\n",
      " [[463.26]\n",
      " [444.37]\n",
      " [488.56]\n",
      " [446.48]\n",
      " [473.9 ]]\n"
     ]
    }
   ],
   "source": [
    "print(\"X_features ->\\n\", X_features[:5, :])\n",
    "print(\"y_outcome ->\\n\", y_outcome[:5, :])"
   ]
  },
  {
   "cell_type": "markdown",
   "id": "68621ef3",
   "metadata": {},
   "source": [
    "Checking type of X_features and y_outcome\n"
   ]
  },
  {
   "cell_type": "code",
   "execution_count": 6,
   "id": "73f2d8df",
   "metadata": {},
   "outputs": [
    {
     "name": "stdout",
     "output_type": "stream",
     "text": [
      "X_features --> <class 'numpy.ndarray'>\n",
      "y_outcome --> <class 'numpy.ndarray'>\n"
     ]
    }
   ],
   "source": [
    "print(\"X_features -->\", type(X_features))\n",
    "print(\"y_outcome -->\", type(y_outcome))"
   ]
  },
  {
   "cell_type": "markdown",
   "id": "402a0984",
   "metadata": {},
   "source": [
    "# Splitting the dataset into training set and test set"
   ]
  },
  {
   "cell_type": "markdown",
   "id": "02f4cc5f",
   "metadata": {},
   "source": [
    "Importing train_test_split model"
   ]
  },
  {
   "cell_type": "code",
   "execution_count": 10,
   "id": "6ea702c0",
   "metadata": {},
   "outputs": [],
   "source": [
    "from sklearn.model_selection import train_test_split\n",
    "X_train, X_test, y_train, y_test= train_test_split(X_features, y_outcome, test_size=0.2, random_state=0)"
   ]
  },
  {
   "cell_type": "code",
   "execution_count": 11,
   "id": "0942632e",
   "metadata": {},
   "outputs": [
    {
     "name": "stdout",
     "output_type": "stream",
     "text": [
      "X_train -->\n",
      " [[  11.22   43.13 1017.24   80.9 ]\n",
      " [  13.67   54.3  1015.92   75.42]\n",
      " [  32.84   77.95 1014.68   45.8 ]\n",
      " [  31.91   67.83 1008.76   53.22]\n",
      " [  10.37   37.5  1013.19   79.25]\n",
      " [  12.16   40.81 1025.79   70.97]\n",
      " [  16.13   39.99 1007.04   80.49]\n",
      " [  12.75   42.34 1018.17   94.67]\n",
      " [  11.62   41.54 1019.94   66.43]\n",
      " [  26.17   48.92 1009.87   34.43]]\n",
      "X_test --> \n",
      " [[  28.66   77.95 1009.56   69.07]\n",
      " [  17.48   49.39 1021.51   84.53]\n",
      " [  14.86   43.14 1019.21   99.14]\n",
      " [  22.46   58.33 1013.21   68.68]\n",
      " [  18.38   55.28 1020.22   68.33]\n",
      " [  30.89   74.87 1008.99   56.58]\n",
      " [  11.74   43.56 1015.14   70.72]\n",
      " [  18.97   50.59 1016.01   74.9 ]\n",
      " [  11.42   41.54 1020.21   71.57]\n",
      " [  23.89   50.16 1004.88   73.94]]\n",
      "y_train --> \n",
      " [[473.93]\n",
      " [467.87]\n",
      " [431.97]\n",
      " [425.28]\n",
      " [473.1 ]\n",
      " [476.63]\n",
      " [465.25]\n",
      " [465.44]\n",
      " [477.75]\n",
      " [440.09]]\n",
      "y_test -->\n",
      " [[431.23]\n",
      " [460.01]\n",
      " [461.14]\n",
      " [445.9 ]\n",
      " [451.29]\n",
      " [432.68]\n",
      " [477.5 ]\n",
      " [459.68]\n",
      " [477.5 ]\n",
      " [444.99]]\n"
     ]
    }
   ],
   "source": [
    "# printing some data of X_train, X_test, y_train, y_test\n",
    "print(\"X_train -->\\n\", X_train[:10, :])\n",
    "print(\"X_test --> \\n\", X_test[:10, :])\n",
    "print(\"y_train --> \\n\", y_train[:10, :])\n",
    "print(\"y_test -->\\n\", y_test[:10, :])"
   ]
  },
  {
   "cell_type": "markdown",
   "id": "ef72d8b2",
   "metadata": {},
   "source": [
    "# Feature Scaling"
   ]
  },
  {
   "cell_type": "markdown",
   "id": "d9f9abf8",
   "metadata": {},
   "source": [
    "Importng StandardScaler"
   ]
  },
  {
   "cell_type": "code",
   "execution_count": 12,
   "id": "311cc18d",
   "metadata": {},
   "outputs": [],
   "source": [
    "from sklearn.preprocessing import StandardScaler"
   ]
  },
  {
   "cell_type": "markdown",
   "id": "aa65f52c",
   "metadata": {},
   "source": [
    "Creating the Instance of the StandardScaler for feature and outcome"
   ]
  },
  {
   "cell_type": "code",
   "execution_count": 13,
   "id": "aec8dc90",
   "metadata": {},
   "outputs": [],
   "source": [
    "sc_X = StandardScaler()\n",
    "sc_y = StandardScaler()\n",
    "X_train = sc_X.fit_transform(X_train)\n",
    "y_train = sc_y.fit_transform(y_train)"
   ]
  },
  {
   "cell_type": "markdown",
   "id": "3c07b400",
   "metadata": {},
   "source": [
    "Printing Some Featured data of X_train and y_train"
   ]
  },
  {
   "cell_type": "code",
   "execution_count": 14,
   "id": "14cd263d",
   "metadata": {},
   "outputs": [
    {
     "name": "stdout",
     "output_type": "stream",
     "text": [
      "Featured X_train -->\n",
      " [[-1.13572795 -0.88685592  0.67357894  0.52070558]\n",
      " [-0.80630243 -0.00971567  0.45145467  0.14531044]\n",
      " [ 1.77128416  1.84743445  0.24279248 -1.88374143]\n",
      " [ 1.64623692  1.05274696 -0.75340119 -1.37545092]\n",
      " [-1.25001843 -1.32895973 -0.00793869  0.40767602]\n",
      " [-1.00933612 -1.06903724  2.11233839 -0.15952686]\n",
      " [-0.47553232 -1.13342892 -1.04283584  0.49261945]\n",
      " [-0.93000507 -0.9488918   0.83007558  1.46398864]\n",
      " [-1.08194419 -1.01171295  1.12792403 -0.47052941]\n",
      " [ 0.87444    -0.43218788 -0.56661488 -2.66261785]]\n",
      "Featured y_train -->\n",
      " [[ 1.15069786]\n",
      " [ 0.79540777]\n",
      " [-1.30936356]\n",
      " [-1.70158975]\n",
      " [ 1.10203602]\n",
      " [ 1.30899543]\n",
      " [ 0.64180051]\n",
      " [ 0.65293996]\n",
      " [ 1.37465961]\n",
      " [-0.83329829]]\n"
     ]
    }
   ],
   "source": [
    "print(\"Featured X_train -->\\n\", X_train[:10, :])\n",
    "print(\"Featured y_train -->\\n\", y_train[:10, :])"
   ]
  },
  {
   "cell_type": "markdown",
   "id": "f318d55b",
   "metadata": {},
   "source": [
    "# Training the SVR model on the Featured Training set"
   ]
  },
  {
   "cell_type": "markdown",
   "id": "6193cae8",
   "metadata": {},
   "source": [
    "Importing the SVR model"
   ]
  },
  {
   "cell_type": "code",
   "execution_count": 15,
   "id": "918f32bc",
   "metadata": {},
   "outputs": [],
   "source": [
    "from sklearn.svm import SVR"
   ]
  },
  {
   "cell_type": "markdown",
   "id": "29b80ea2",
   "metadata": {},
   "source": [
    "Training"
   ]
  },
  {
   "cell_type": "code",
   "execution_count": 17,
   "id": "0d6579a0",
   "metadata": {},
   "outputs": [
    {
     "data": {
      "text/html": [
       "<style>#sk-container-id-2 {color: black;background-color: white;}#sk-container-id-2 pre{padding: 0;}#sk-container-id-2 div.sk-toggleable {background-color: white;}#sk-container-id-2 label.sk-toggleable__label {cursor: pointer;display: block;width: 100%;margin-bottom: 0;padding: 0.3em;box-sizing: border-box;text-align: center;}#sk-container-id-2 label.sk-toggleable__label-arrow:before {content: \"▸\";float: left;margin-right: 0.25em;color: #696969;}#sk-container-id-2 label.sk-toggleable__label-arrow:hover:before {color: black;}#sk-container-id-2 div.sk-estimator:hover label.sk-toggleable__label-arrow:before {color: black;}#sk-container-id-2 div.sk-toggleable__content {max-height: 0;max-width: 0;overflow: hidden;text-align: left;background-color: #f0f8ff;}#sk-container-id-2 div.sk-toggleable__content pre {margin: 0.2em;color: black;border-radius: 0.25em;background-color: #f0f8ff;}#sk-container-id-2 input.sk-toggleable__control:checked~div.sk-toggleable__content {max-height: 200px;max-width: 100%;overflow: auto;}#sk-container-id-2 input.sk-toggleable__control:checked~label.sk-toggleable__label-arrow:before {content: \"▾\";}#sk-container-id-2 div.sk-estimator input.sk-toggleable__control:checked~label.sk-toggleable__label {background-color: #d4ebff;}#sk-container-id-2 div.sk-label input.sk-toggleable__control:checked~label.sk-toggleable__label {background-color: #d4ebff;}#sk-container-id-2 input.sk-hidden--visually {border: 0;clip: rect(1px 1px 1px 1px);clip: rect(1px, 1px, 1px, 1px);height: 1px;margin: -1px;overflow: hidden;padding: 0;position: absolute;width: 1px;}#sk-container-id-2 div.sk-estimator {font-family: monospace;background-color: #f0f8ff;border: 1px dotted black;border-radius: 0.25em;box-sizing: border-box;margin-bottom: 0.5em;}#sk-container-id-2 div.sk-estimator:hover {background-color: #d4ebff;}#sk-container-id-2 div.sk-parallel-item::after {content: \"\";width: 100%;border-bottom: 1px solid gray;flex-grow: 1;}#sk-container-id-2 div.sk-label:hover label.sk-toggleable__label {background-color: #d4ebff;}#sk-container-id-2 div.sk-serial::before {content: \"\";position: absolute;border-left: 1px solid gray;box-sizing: border-box;top: 0;bottom: 0;left: 50%;z-index: 0;}#sk-container-id-2 div.sk-serial {display: flex;flex-direction: column;align-items: center;background-color: white;padding-right: 0.2em;padding-left: 0.2em;position: relative;}#sk-container-id-2 div.sk-item {position: relative;z-index: 1;}#sk-container-id-2 div.sk-parallel {display: flex;align-items: stretch;justify-content: center;background-color: white;position: relative;}#sk-container-id-2 div.sk-item::before, #sk-container-id-2 div.sk-parallel-item::before {content: \"\";position: absolute;border-left: 1px solid gray;box-sizing: border-box;top: 0;bottom: 0;left: 50%;z-index: -1;}#sk-container-id-2 div.sk-parallel-item {display: flex;flex-direction: column;z-index: 1;position: relative;background-color: white;}#sk-container-id-2 div.sk-parallel-item:first-child::after {align-self: flex-end;width: 50%;}#sk-container-id-2 div.sk-parallel-item:last-child::after {align-self: flex-start;width: 50%;}#sk-container-id-2 div.sk-parallel-item:only-child::after {width: 0;}#sk-container-id-2 div.sk-dashed-wrapped {border: 1px dashed gray;margin: 0 0.4em 0.5em 0.4em;box-sizing: border-box;padding-bottom: 0.4em;background-color: white;}#sk-container-id-2 div.sk-label label {font-family: monospace;font-weight: bold;display: inline-block;line-height: 1.2em;}#sk-container-id-2 div.sk-label-container {text-align: center;}#sk-container-id-2 div.sk-container {/* jupyter's `normalize.less` sets `[hidden] { display: none; }` but bootstrap.min.css set `[hidden] { display: none !important; }` so we also need the `!important` here to be able to override the default hidden behavior on the sphinx rendered scikit-learn.org. See: https://github.com/scikit-learn/scikit-learn/issues/21755 */display: inline-block !important;position: relative;}#sk-container-id-2 div.sk-text-repr-fallback {display: none;}</style><div id=\"sk-container-id-2\" class=\"sk-top-container\"><div class=\"sk-text-repr-fallback\"><pre>SVR()</pre><b>In a Jupyter environment, please rerun this cell to show the HTML representation or trust the notebook. <br />On GitHub, the HTML representation is unable to render, please try loading this page with nbviewer.org.</b></div><div class=\"sk-container\" hidden><div class=\"sk-item\"><div class=\"sk-estimator sk-toggleable\"><input class=\"sk-toggleable__control sk-hidden--visually\" id=\"sk-estimator-id-2\" type=\"checkbox\" checked><label for=\"sk-estimator-id-2\" class=\"sk-toggleable__label sk-toggleable__label-arrow\">SVR</label><div class=\"sk-toggleable__content\"><pre>SVR()</pre></div></div></div></div></div>"
      ],
      "text/plain": [
       "SVR()"
      ]
     },
     "execution_count": 17,
     "metadata": {},
     "output_type": "execute_result"
    }
   ],
   "source": [
    "svr = SVR(kernel='rbf')\n",
    "svr.fit(X_train, y_train.ravel())"
   ]
  },
  {
   "cell_type": "markdown",
   "id": "8b486fc4",
   "metadata": {},
   "source": [
    "# Predicting The test set result"
   ]
  },
  {
   "cell_type": "code",
   "execution_count": 23,
   "id": "7ba4482d",
   "metadata": {},
   "outputs": [],
   "source": [
    "y_pred = svr.predict(sc_X.transform(X_test))\n",
    "y_pred = sc_y.inverse_transform(y_pred.reshape(len(y_pred), 1))\n",
    "# reshaping the array and then giving for inverse_trsnform"
   ]
  },
  {
   "cell_type": "markdown",
   "id": "89b49af3",
   "metadata": {},
   "source": [
    "Importing Numpy for predicted and actual comparison"
   ]
  },
  {
   "cell_type": "code",
   "execution_count": 25,
   "id": "545bb37b",
   "metadata": {},
   "outputs": [],
   "source": [
    "import numpy as np"
   ]
  },
  {
   "cell_type": "markdown",
   "id": "50760e22",
   "metadata": {},
   "source": [
    "Printing the predicted value and the test value in two column so we can compare the values"
   ]
  },
  {
   "cell_type": "code",
   "execution_count": 27,
   "id": "e630c9ed",
   "metadata": {},
   "outputs": [
    {
     "name": "stdout",
     "output_type": "stream",
     "text": [
      "[[434.05242921 431.23      ]\n",
      " [457.93810186 460.01      ]\n",
      " [461.03113894 461.14      ]\n",
      " [448.63030498 445.9       ]\n",
      " [457.83244657 451.29      ]\n",
      " [433.64574433 432.68      ]\n",
      " [473.91333682 477.5       ]\n",
      " [457.15298763 459.68      ]\n",
      " [474.65445648 477.5       ]\n",
      " [442.01893045 444.99      ]]\n"
     ]
    }
   ],
   "source": [
    "print(np.concatenate((y_pred.reshape(len(y_pred), 1), y_test.reshape(len(y_test), 1)), 1)[:10,:])"
   ]
  },
  {
   "cell_type": "markdown",
   "id": "3a7dbea0",
   "metadata": {},
   "source": [
    "# Evaluating The Model Performance"
   ]
  },
  {
   "cell_type": "markdown",
   "id": "eb7e4d62",
   "metadata": {},
   "source": [
    "Importing r2_score error model to know the goodness of our model"
   ]
  },
  {
   "cell_type": "code",
   "execution_count": 29,
   "id": "43420418",
   "metadata": {},
   "outputs": [],
   "source": [
    "from sklearn.metrics import r2_score as r"
   ]
  },
  {
   "cell_type": "markdown",
   "id": "7170106d",
   "metadata": {},
   "source": [
    "Calculating the accuracy of our model"
   ]
  },
  {
   "cell_type": "code",
   "execution_count": 30,
   "id": "9ec8e85c",
   "metadata": {},
   "outputs": [],
   "source": [
    "accuracy = r(y_test, y_pred)"
   ]
  },
  {
   "cell_type": "code",
   "execution_count": 31,
   "id": "b8853cf2",
   "metadata": {},
   "outputs": [
    {
     "name": "stdout",
     "output_type": "stream",
     "text": [
      "0.948078404998626\n"
     ]
    }
   ],
   "source": [
    "print(accuracy)  # means 94.80% our model is accurate, which is little accurate than the PR model we saw."
   ]
  }
 ],
 "metadata": {
  "kernelspec": {
   "display_name": "Python 3 (ipykernel)",
   "language": "python",
   "name": "python3"
  },
  "language_info": {
   "codemirror_mode": {
    "name": "ipython",
    "version": 3
   },
   "file_extension": ".py",
   "mimetype": "text/x-python",
   "name": "python",
   "nbconvert_exporter": "python",
   "pygments_lexer": "ipython3",
   "version": "3.11.3"
  }
 },
 "nbformat": 4,
 "nbformat_minor": 5
}
