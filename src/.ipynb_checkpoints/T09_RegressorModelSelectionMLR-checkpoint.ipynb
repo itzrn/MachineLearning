{
 "cells": [
  {
   "cell_type": "markdown",
   "id": "bb238872",
   "metadata": {},
   "source": [
    "# Multiple Linear Regression"
   ]
  },
  {
   "cell_type": "markdown",
   "id": "78cbecde",
   "metadata": {},
   "source": [
    "Importing Panda Library To access The dataset"
   ]
  },
  {
   "cell_type": "code",
   "execution_count": 1,
   "id": "2fd9ae9c",
   "metadata": {},
   "outputs": [],
   "source": [
    "import pandas as pd"
   ]
  },
  {
   "cell_type": "markdown",
   "id": "740b0fde",
   "metadata": {},
   "source": [
    "Importing the dataset"
   ]
  },
  {
   "cell_type": "code",
   "execution_count": 12,
   "id": "bb341b08",
   "metadata": {},
   "outputs": [],
   "source": [
    "dataset = pd.read_csv(\"Datasets/T09_Data.csv\")\n",
    "X_features = dataset.iloc[:, :-1].values\n",
    "y_outcome = dataset.iloc[:, [-1]].values"
   ]
  },
  {
   "cell_type": "markdown",
   "id": "ac675fb0",
   "metadata": {},
   "source": [
    "Checking is there any missing value in the dataset"
   ]
  },
  {
   "cell_type": "code",
   "execution_count": 13,
   "id": "eb939957",
   "metadata": {},
   "outputs": [
    {
     "name": "stdout",
     "output_type": "stream",
     "text": [
      "AT    0\n",
      "V     0\n",
      "AP    0\n",
      "RH    0\n",
      "PE    0\n",
      "dtype: int64\n"
     ]
    }
   ],
   "source": [
    "print(dataset.isnull().sum())"
   ]
  },
  {
   "cell_type": "markdown",
   "id": "d7f7b51c",
   "metadata": {},
   "source": [
    "Printing some data of the X_features and y_outcome"
   ]
  },
  {
   "cell_type": "code",
   "execution_count": 15,
   "id": "87aa3989",
   "metadata": {},
   "outputs": [
    {
     "name": "stdout",
     "output_type": "stream",
     "text": [
      "X_features ->\n",
      " [[  14.96   41.76 1024.07   73.17]\n",
      " [  25.18   62.96 1020.04   59.08]\n",
      " [   5.11   39.4  1012.16   92.14]\n",
      " [  20.86   57.32 1010.24   76.64]\n",
      " [  10.82   37.5  1009.23   96.62]]\n",
      "y_outcome ->\n",
      " [[463.26]\n",
      " [444.37]\n",
      " [488.56]\n",
      " [446.48]\n",
      " [473.9 ]]\n"
     ]
    }
   ],
   "source": [
    "print(\"X_features ->\\n\", X_features[:5, :])\n",
    "print(\"y_outcome ->\\n\", y_outcome[:5, :])"
   ]
  },
  {
   "cell_type": "markdown",
   "id": "356d01c2",
   "metadata": {},
   "source": [
    "Checking type of X_features and y_outcome"
   ]
  },
  {
   "cell_type": "code",
   "execution_count": 18,
   "id": "8c706b21",
   "metadata": {},
   "outputs": [
    {
     "name": "stdout",
     "output_type": "stream",
     "text": [
      "X_features --> <class 'numpy.ndarray'>\n",
      "y_outcome --> <class 'numpy.ndarray'>\n"
     ]
    }
   ],
   "source": [
    "print(\"X_features -->\", type(X_features))\n",
    "print(\"y_outcome -->\", type(y_outcome))"
   ]
  },
  {
   "cell_type": "markdown",
   "id": "7f6839b5",
   "metadata": {},
   "source": [
    "# Splitting the dataset into training set and test set"
   ]
  },
  {
   "cell_type": "markdown",
   "id": "6c1d230f",
   "metadata": {},
   "source": [
    "Importing train_test_split model"
   ]
  },
  {
   "cell_type": "code",
   "execution_count": 22,
   "id": "a5eab42b",
   "metadata": {},
   "outputs": [],
   "source": [
    "from sklearn.model_selection import train_test_split\n",
    "X_train, X_test, y_train, y_test= train_test_split(X_features, y_outcome, test_size=0.2, random_state=0)"
   ]
  },
  {
   "cell_type": "code",
   "execution_count": 23,
   "id": "ab5bb481",
   "metadata": {},
   "outputs": [
    {
     "name": "stdout",
     "output_type": "stream",
     "text": [
      "X_train -->\n",
      " [[  11.22   43.13 1017.24   80.9 ]\n",
      " [  13.67   54.3  1015.92   75.42]\n",
      " [  32.84   77.95 1014.68   45.8 ]\n",
      " [  31.91   67.83 1008.76   53.22]\n",
      " [  10.37   37.5  1013.19   79.25]\n",
      " [  12.16   40.81 1025.79   70.97]\n",
      " [  16.13   39.99 1007.04   80.49]\n",
      " [  12.75   42.34 1018.17   94.67]\n",
      " [  11.62   41.54 1019.94   66.43]\n",
      " [  26.17   48.92 1009.87   34.43]]\n",
      "X_test --> \n",
      " [[  28.66   77.95 1009.56   69.07]\n",
      " [  17.48   49.39 1021.51   84.53]\n",
      " [  14.86   43.14 1019.21   99.14]\n",
      " [  22.46   58.33 1013.21   68.68]\n",
      " [  18.38   55.28 1020.22   68.33]\n",
      " [  30.89   74.87 1008.99   56.58]\n",
      " [  11.74   43.56 1015.14   70.72]\n",
      " [  18.97   50.59 1016.01   74.9 ]\n",
      " [  11.42   41.54 1020.21   71.57]\n",
      " [  23.89   50.16 1004.88   73.94]]\n",
      "y_train --> \n",
      " [[473.93]\n",
      " [467.87]\n",
      " [431.97]\n",
      " [425.28]\n",
      " [473.1 ]\n",
      " [476.63]\n",
      " [465.25]\n",
      " [465.44]\n",
      " [477.75]\n",
      " [440.09]]\n",
      "y_test -->\n",
      " [[431.23]\n",
      " [460.01]\n",
      " [461.14]\n",
      " [445.9 ]\n",
      " [451.29]\n",
      " [432.68]\n",
      " [477.5 ]\n",
      " [459.68]\n",
      " [477.5 ]\n",
      " [444.99]]\n"
     ]
    }
   ],
   "source": [
    "# printing some data of X_train, X_test, y_train, y_test\n",
    "print(\"X_train -->\\n\", X_train[:10, :])\n",
    "print(\"X_test --> \\n\", X_test[:10, :])\n",
    "print(\"y_train --> \\n\", y_train[:10, :])\n",
    "print(\"y_test -->\\n\", y_test[:10, :])"
   ]
  },
  {
   "cell_type": "markdown",
   "id": "3baf49ab",
   "metadata": {},
   "source": [
    "# Training The Multiple Linear Regression Model on the Training set"
   ]
  },
  {
   "cell_type": "markdown",
   "id": "fc4945f1",
   "metadata": {},
   "source": [
    "Importing Library"
   ]
  },
  {
   "cell_type": "code",
   "execution_count": 24,
   "id": "1391716d",
   "metadata": {},
   "outputs": [],
   "source": [
    "from sklearn.linear_model import LinearRegression"
   ]
  },
  {
   "cell_type": "markdown",
   "id": "7e874177",
   "metadata": {},
   "source": [
    "Creating the object of Linear Regressor"
   ]
  },
  {
   "cell_type": "code",
   "execution_count": 26,
   "id": "8799ae1f",
   "metadata": {},
   "outputs": [],
   "source": [
    "lR = LinearRegression()"
   ]
  },
  {
   "cell_type": "markdown",
   "id": "40065042",
   "metadata": {},
   "source": [
    "Using fit() method fitting the coefficient and intercept of the regressor hyperplane"
   ]
  },
  {
   "cell_type": "code",
   "execution_count": 27,
   "id": "b3d1b1e7",
   "metadata": {},
   "outputs": [
    {
     "data": {
      "text/html": [
       "<style>#sk-container-id-1 {color: black;background-color: white;}#sk-container-id-1 pre{padding: 0;}#sk-container-id-1 div.sk-toggleable {background-color: white;}#sk-container-id-1 label.sk-toggleable__label {cursor: pointer;display: block;width: 100%;margin-bottom: 0;padding: 0.3em;box-sizing: border-box;text-align: center;}#sk-container-id-1 label.sk-toggleable__label-arrow:before {content: \"▸\";float: left;margin-right: 0.25em;color: #696969;}#sk-container-id-1 label.sk-toggleable__label-arrow:hover:before {color: black;}#sk-container-id-1 div.sk-estimator:hover label.sk-toggleable__label-arrow:before {color: black;}#sk-container-id-1 div.sk-toggleable__content {max-height: 0;max-width: 0;overflow: hidden;text-align: left;background-color: #f0f8ff;}#sk-container-id-1 div.sk-toggleable__content pre {margin: 0.2em;color: black;border-radius: 0.25em;background-color: #f0f8ff;}#sk-container-id-1 input.sk-toggleable__control:checked~div.sk-toggleable__content {max-height: 200px;max-width: 100%;overflow: auto;}#sk-container-id-1 input.sk-toggleable__control:checked~label.sk-toggleable__label-arrow:before {content: \"▾\";}#sk-container-id-1 div.sk-estimator input.sk-toggleable__control:checked~label.sk-toggleable__label {background-color: #d4ebff;}#sk-container-id-1 div.sk-label input.sk-toggleable__control:checked~label.sk-toggleable__label {background-color: #d4ebff;}#sk-container-id-1 input.sk-hidden--visually {border: 0;clip: rect(1px 1px 1px 1px);clip: rect(1px, 1px, 1px, 1px);height: 1px;margin: -1px;overflow: hidden;padding: 0;position: absolute;width: 1px;}#sk-container-id-1 div.sk-estimator {font-family: monospace;background-color: #f0f8ff;border: 1px dotted black;border-radius: 0.25em;box-sizing: border-box;margin-bottom: 0.5em;}#sk-container-id-1 div.sk-estimator:hover {background-color: #d4ebff;}#sk-container-id-1 div.sk-parallel-item::after {content: \"\";width: 100%;border-bottom: 1px solid gray;flex-grow: 1;}#sk-container-id-1 div.sk-label:hover label.sk-toggleable__label {background-color: #d4ebff;}#sk-container-id-1 div.sk-serial::before {content: \"\";position: absolute;border-left: 1px solid gray;box-sizing: border-box;top: 0;bottom: 0;left: 50%;z-index: 0;}#sk-container-id-1 div.sk-serial {display: flex;flex-direction: column;align-items: center;background-color: white;padding-right: 0.2em;padding-left: 0.2em;position: relative;}#sk-container-id-1 div.sk-item {position: relative;z-index: 1;}#sk-container-id-1 div.sk-parallel {display: flex;align-items: stretch;justify-content: center;background-color: white;position: relative;}#sk-container-id-1 div.sk-item::before, #sk-container-id-1 div.sk-parallel-item::before {content: \"\";position: absolute;border-left: 1px solid gray;box-sizing: border-box;top: 0;bottom: 0;left: 50%;z-index: -1;}#sk-container-id-1 div.sk-parallel-item {display: flex;flex-direction: column;z-index: 1;position: relative;background-color: white;}#sk-container-id-1 div.sk-parallel-item:first-child::after {align-self: flex-end;width: 50%;}#sk-container-id-1 div.sk-parallel-item:last-child::after {align-self: flex-start;width: 50%;}#sk-container-id-1 div.sk-parallel-item:only-child::after {width: 0;}#sk-container-id-1 div.sk-dashed-wrapped {border: 1px dashed gray;margin: 0 0.4em 0.5em 0.4em;box-sizing: border-box;padding-bottom: 0.4em;background-color: white;}#sk-container-id-1 div.sk-label label {font-family: monospace;font-weight: bold;display: inline-block;line-height: 1.2em;}#sk-container-id-1 div.sk-label-container {text-align: center;}#sk-container-id-1 div.sk-container {/* jupyter's `normalize.less` sets `[hidden] { display: none; }` but bootstrap.min.css set `[hidden] { display: none !important; }` so we also need the `!important` here to be able to override the default hidden behavior on the sphinx rendered scikit-learn.org. See: https://github.com/scikit-learn/scikit-learn/issues/21755 */display: inline-block !important;position: relative;}#sk-container-id-1 div.sk-text-repr-fallback {display: none;}</style><div id=\"sk-container-id-1\" class=\"sk-top-container\"><div class=\"sk-text-repr-fallback\"><pre>LinearRegression()</pre><b>In a Jupyter environment, please rerun this cell to show the HTML representation or trust the notebook. <br />On GitHub, the HTML representation is unable to render, please try loading this page with nbviewer.org.</b></div><div class=\"sk-container\" hidden><div class=\"sk-item\"><div class=\"sk-estimator sk-toggleable\"><input class=\"sk-toggleable__control sk-hidden--visually\" id=\"sk-estimator-id-1\" type=\"checkbox\" checked><label for=\"sk-estimator-id-1\" class=\"sk-toggleable__label sk-toggleable__label-arrow\">LinearRegression</label><div class=\"sk-toggleable__content\"><pre>LinearRegression()</pre></div></div></div></div></div>"
      ],
      "text/plain": [
       "LinearRegression()"
      ]
     },
     "execution_count": 27,
     "metadata": {},
     "output_type": "execute_result"
    }
   ],
   "source": [
    "lR.fit(X_train, y_train)"
   ]
  },
  {
   "cell_type": "markdown",
   "id": "79422e59",
   "metadata": {},
   "source": [
    "Printing the coefficient and intercept of the Regressor hyperplane"
   ]
  },
  {
   "cell_type": "code",
   "execution_count": 29,
   "id": "88a5c414",
   "metadata": {},
   "outputs": [
    {
     "name": "stdout",
     "output_type": "stream",
     "text": [
      "Coefficients  [[-1.97313099 -0.23649993  0.06387891 -0.15807019]]\n",
      "Intercept -> [452.84103716]\n"
     ]
    }
   ],
   "source": [
    "print(\"Coefficients \", lR.coef_)\n",
    "print(\"Intercept ->\", lR.intercept_)"
   ]
  },
  {
   "cell_type": "markdown",
   "id": "f25cdf26",
   "metadata": {},
   "source": [
    "# Predicting The Test Result"
   ]
  },
  {
   "cell_type": "markdown",
   "id": "f738490f",
   "metadata": {},
   "source": [
    "Predicting the X_test"
   ]
  },
  {
   "cell_type": "code",
   "execution_count": 32,
   "id": "2a6800cf",
   "metadata": {},
   "outputs": [],
   "source": [
    "y_pred = lR.predict(X_test)"
   ]
  },
  {
   "cell_type": "markdown",
   "id": "f2f1423e",
   "metadata": {},
   "source": [
    "Compiring some data of y_pred with y_test"
   ]
  },
  {
   "cell_type": "code",
   "execution_count": 35,
   "id": "b4c6ad6f",
   "metadata": {},
   "outputs": [],
   "source": [
    "import numpy as np"
   ]
  },
  {
   "cell_type": "code",
   "execution_count": 37,
   "id": "41d592b1",
   "metadata": {},
   "outputs": [
    {
     "name": "stdout",
     "output_type": "stream",
     "text": [
      "[[431.42761597 431.23      ]\n",
      " [458.56124622 460.01      ]\n",
      " [462.75264705 461.14      ]\n",
      " [448.59596206 445.9       ]\n",
      " [457.87077698 451.29      ]\n",
      " [429.69383928 432.68      ]\n",
      " [473.04185329 477.5       ]\n",
      " [456.50836303 459.68      ]\n",
      " [474.34049147 477.5       ]\n",
      " [446.34302867 444.99      ]]\n"
     ]
    }
   ],
   "source": [
    "print(np.concatenate((y_pred.reshape(len(y_pred), 1), y_test.reshape(len(y_test), 1)), 1)[:10,:])\n",
    "#  printing the predicted value and the test value in two column so we can compare the values"
   ]
  },
  {
   "cell_type": "markdown",
   "id": "ee49b594",
   "metadata": {},
   "source": [
    "# Evaluating The Model Performance"
   ]
  },
  {
   "cell_type": "markdown",
   "id": "78bf143a",
   "metadata": {},
   "source": [
    "Importing r2_score error model to know the goodness of our model"
   ]
  },
  {
   "cell_type": "code",
   "execution_count": 40,
   "id": "cde2832e",
   "metadata": {},
   "outputs": [],
   "source": [
    "from sklearn.metrics import r2_score as r"
   ]
  },
  {
   "cell_type": "code",
   "execution_count": 42,
   "id": "badecb0f",
   "metadata": {},
   "outputs": [],
   "source": [
    "accuracy = r(y_test, y_pred)"
   ]
  },
  {
   "cell_type": "code",
   "execution_count": 44,
   "id": "2f415a08",
   "metadata": {},
   "outputs": [
    {
     "name": "stdout",
     "output_type": "stream",
     "text": [
      "0.9325315554761303\n"
     ]
    }
   ],
   "source": [
    "print(accuracy)  # means 93.25 % our model is accurate"
   ]
  }
 ],
 "metadata": {
  "kernelspec": {
   "display_name": "Python 3 (ipykernel)",
   "language": "python",
   "name": "python3"
  },
  "language_info": {
   "codemirror_mode": {
    "name": "ipython",
    "version": 3
   },
   "file_extension": ".py",
   "mimetype": "text/x-python",
   "name": "python",
   "nbconvert_exporter": "python",
   "pygments_lexer": "ipython3",
   "version": "3.11.3"
  }
 },
 "nbformat": 4,
 "nbformat_minor": 5
}
