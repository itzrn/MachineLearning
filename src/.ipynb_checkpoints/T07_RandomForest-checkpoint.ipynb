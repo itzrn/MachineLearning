{
 "cells": [
  {
   "cell_type": "markdown",
   "id": "bb0d7b07",
   "metadata": {},
   "source": [
    "# Random Forest Regression"
   ]
  },
  {
   "cell_type": "markdown",
   "id": "f9f25b26",
   "metadata": {},
   "source": [
    "Here we train group of Decision tree's, so its called forest.(group of tree's is forest).\n",
    "Random word came as sampling of data randomly and on that sampled data we apply decision tree.\n",
    "Here, we take multiple base model and put them together for powerful prediction.\n",
    "In random forest the base model is Decision tree.\n",
    "\n",
    "Gives good results on allmost all the machine learning problem.\n",
    "Random forest can be applied to regerssion as well as classification problems.\n",
    "\n",
    "It's a bagging(Bootstrapped Aggregation) techinque. If in bagging Techinique we use decission tree, then it is called Random Forest\n",
    "\n",
    "In Bootstrapped -> We do Sampling.\n",
    "Let we have 1000 rows in a dataset, we will give this dataset to base model to get train, we won't give all the data to one base model but instead we give some samples of dataset to every base model.\n",
    "This sample data get selected randomly. Let we have to give 500 data to each base model, then we will create sample of the data.\n",
    "\n",
    "The sampling of the data happens in three ways:\n",
    "1. Row Sampling:\n",
    "   Ex: let say you have decided, u will give 500 rows to every base model.\n",
    "       and those 500 rows get selected randomly.\n",
    "       Here selection can happens in two ways:\n",
    "            1. with repetition : mens here the possibility of having duplicate dataset\n",
    "            2. without repetition : means here we will not have any duplicate rows.\n",
    "2. Column sampling:\n",
    "       let there be 10 column and u have decided that every base model get 5 columns only.\n",
    "       this is also called features sampling.\n",
    "       Here selection can happens in two ways:\n",
    "            1. with repetition : mens here the possibility of having duplicate dataset\n",
    "            2. without repetition : means here we will not have any duplicate rows.   \n",
    "3. Combination sampling:\n",
    "       On the basis of row and column we do sampling here.\n",
    "       taking the subset of rows and column both.\n",
    "\n",
    "Now the sampled data is given to base models to get train. The structure of every decision tree(base model) is different since the sampled data given for training is different from different base model.\n",
    "\n",
    "Next Step we use Aggregation(this is used for prediction).\n",
    "Now we have all the trained decision tree(base model).\n",
    "we give a test data to every decision tree and ask for the output. \n",
    "let we are seeing classification ->\n",
    "Then we see how many of them given 1 and how many of then given 0.And lets take there were 100 decision tree created out of which 43 gave the output 1 and 57 gave the output 0. On this we can conclude the output will be 0 as more number of decision tree gave the output 0.\n",
    "for regression ->\n",
    "now instead of 0 or 1 we would be getting a number from every decision tree(base model). and then we calculate the mean of those output and get the regression output."
   ]
  },
  {
   "cell_type": "markdown",
   "id": "2fdc00cd",
   "metadata": {},
   "source": [
    "Ensemble Learning:\n",
    "Ensemble learning is when you take multiple algorithms or the same algorithm multiple times and\n",
    "you put them together to make something much more powerful than the original."
   ]
  },
  {
   "cell_type": "markdown",
   "id": "949171f7",
   "metadata": {},
   "source": [
    " Steps:\n",
    " 1. Pick at random K data points from the training set.\n",
    " 2. Build the Decision Tree associated to these K data points.\n",
    " 3. Choose the number of tress you want to build and repeat Step 1&2.\n",
    " 4. For a new data point make each one of your Ntree predict the values of Y to for the data point in question, and assgn       the new data point the average across all of the predicted Y values."
   ]
  },
  {
   "cell_type": "code",
   "execution_count": 37,
   "id": "c6495464",
   "metadata": {},
   "outputs": [],
   "source": [
    "import pandas as pd"
   ]
  },
  {
   "cell_type": "markdown",
   "id": "fee9a8bb",
   "metadata": {},
   "source": [
    "# Importing Dataset"
   ]
  },
  {
   "cell_type": "code",
   "execution_count": 38,
   "id": "8392fe4a",
   "metadata": {},
   "outputs": [],
   "source": [
    "dataset = pd.read_csv(\"Datasets\\T04_Position_Salaries.csv\")\n",
    "X_features = dataset.iloc[:, 1:-1].values\n",
    "y_outcome =  dataset.iloc[:, [-1]].values"
   ]
  },
  {
   "cell_type": "code",
   "execution_count": 39,
   "id": "8ea46d90",
   "metadata": {},
   "outputs": [
    {
     "name": "stdout",
     "output_type": "stream",
     "text": [
      "X_features ->\n",
      " [[ 1  2  3  4  5  6  7  8  9 10]]\n",
      "y_outcome ->\n",
      " [[  45000   50000   60000   80000  110000  150000  200000  300000  500000\n",
      "  1000000]]\n"
     ]
    }
   ],
   "source": [
    "#Printing X_features and y_outcome\n",
    "print(\"X_features ->\\n\", X_features.reshape(1, len(X_features)))\n",
    "print(\"y_outcome ->\\n\", y_outcome.reshape(1, len(y_outcome)))"
   ]
  },
  {
   "cell_type": "markdown",
   "id": "c799f932",
   "metadata": {},
   "source": [
    "# Training The Random Forest Regression Model on the whole dataset"
   ]
  },
  {
   "cell_type": "markdown",
   "id": "7dcca2f8",
   "metadata": {},
   "source": [
    "Importing library"
   ]
  },
  {
   "cell_type": "code",
   "execution_count": 40,
   "id": "aa6ff5ee",
   "metadata": {},
   "outputs": [],
   "source": [
    "from sklearn.ensemble import RandomForestRegressor"
   ]
  },
  {
   "cell_type": "markdown",
   "id": "c28c01a4",
   "metadata": {},
   "source": [
    "Making Regressor Object and training the model"
   ]
  },
  {
   "cell_type": "code",
   "execution_count": 41,
   "id": "d73b5182",
   "metadata": {},
   "outputs": [
    {
     "data": {
      "text/html": [
       "<style>#sk-container-id-7 {color: black;background-color: white;}#sk-container-id-7 pre{padding: 0;}#sk-container-id-7 div.sk-toggleable {background-color: white;}#sk-container-id-7 label.sk-toggleable__label {cursor: pointer;display: block;width: 100%;margin-bottom: 0;padding: 0.3em;box-sizing: border-box;text-align: center;}#sk-container-id-7 label.sk-toggleable__label-arrow:before {content: \"▸\";float: left;margin-right: 0.25em;color: #696969;}#sk-container-id-7 label.sk-toggleable__label-arrow:hover:before {color: black;}#sk-container-id-7 div.sk-estimator:hover label.sk-toggleable__label-arrow:before {color: black;}#sk-container-id-7 div.sk-toggleable__content {max-height: 0;max-width: 0;overflow: hidden;text-align: left;background-color: #f0f8ff;}#sk-container-id-7 div.sk-toggleable__content pre {margin: 0.2em;color: black;border-radius: 0.25em;background-color: #f0f8ff;}#sk-container-id-7 input.sk-toggleable__control:checked~div.sk-toggleable__content {max-height: 200px;max-width: 100%;overflow: auto;}#sk-container-id-7 input.sk-toggleable__control:checked~label.sk-toggleable__label-arrow:before {content: \"▾\";}#sk-container-id-7 div.sk-estimator input.sk-toggleable__control:checked~label.sk-toggleable__label {background-color: #d4ebff;}#sk-container-id-7 div.sk-label input.sk-toggleable__control:checked~label.sk-toggleable__label {background-color: #d4ebff;}#sk-container-id-7 input.sk-hidden--visually {border: 0;clip: rect(1px 1px 1px 1px);clip: rect(1px, 1px, 1px, 1px);height: 1px;margin: -1px;overflow: hidden;padding: 0;position: absolute;width: 1px;}#sk-container-id-7 div.sk-estimator {font-family: monospace;background-color: #f0f8ff;border: 1px dotted black;border-radius: 0.25em;box-sizing: border-box;margin-bottom: 0.5em;}#sk-container-id-7 div.sk-estimator:hover {background-color: #d4ebff;}#sk-container-id-7 div.sk-parallel-item::after {content: \"\";width: 100%;border-bottom: 1px solid gray;flex-grow: 1;}#sk-container-id-7 div.sk-label:hover label.sk-toggleable__label {background-color: #d4ebff;}#sk-container-id-7 div.sk-serial::before {content: \"\";position: absolute;border-left: 1px solid gray;box-sizing: border-box;top: 0;bottom: 0;left: 50%;z-index: 0;}#sk-container-id-7 div.sk-serial {display: flex;flex-direction: column;align-items: center;background-color: white;padding-right: 0.2em;padding-left: 0.2em;position: relative;}#sk-container-id-7 div.sk-item {position: relative;z-index: 1;}#sk-container-id-7 div.sk-parallel {display: flex;align-items: stretch;justify-content: center;background-color: white;position: relative;}#sk-container-id-7 div.sk-item::before, #sk-container-id-7 div.sk-parallel-item::before {content: \"\";position: absolute;border-left: 1px solid gray;box-sizing: border-box;top: 0;bottom: 0;left: 50%;z-index: -1;}#sk-container-id-7 div.sk-parallel-item {display: flex;flex-direction: column;z-index: 1;position: relative;background-color: white;}#sk-container-id-7 div.sk-parallel-item:first-child::after {align-self: flex-end;width: 50%;}#sk-container-id-7 div.sk-parallel-item:last-child::after {align-self: flex-start;width: 50%;}#sk-container-id-7 div.sk-parallel-item:only-child::after {width: 0;}#sk-container-id-7 div.sk-dashed-wrapped {border: 1px dashed gray;margin: 0 0.4em 0.5em 0.4em;box-sizing: border-box;padding-bottom: 0.4em;background-color: white;}#sk-container-id-7 div.sk-label label {font-family: monospace;font-weight: bold;display: inline-block;line-height: 1.2em;}#sk-container-id-7 div.sk-label-container {text-align: center;}#sk-container-id-7 div.sk-container {/* jupyter's `normalize.less` sets `[hidden] { display: none; }` but bootstrap.min.css set `[hidden] { display: none !important; }` so we also need the `!important` here to be able to override the default hidden behavior on the sphinx rendered scikit-learn.org. See: https://github.com/scikit-learn/scikit-learn/issues/21755 */display: inline-block !important;position: relative;}#sk-container-id-7 div.sk-text-repr-fallback {display: none;}</style><div id=\"sk-container-id-7\" class=\"sk-top-container\"><div class=\"sk-text-repr-fallback\"><pre>RandomForestRegressor(n_estimators=10, random_state=0)</pre><b>In a Jupyter environment, please rerun this cell to show the HTML representation or trust the notebook. <br />On GitHub, the HTML representation is unable to render, please try loading this page with nbviewer.org.</b></div><div class=\"sk-container\" hidden><div class=\"sk-item\"><div class=\"sk-estimator sk-toggleable\"><input class=\"sk-toggleable__control sk-hidden--visually\" id=\"sk-estimator-id-7\" type=\"checkbox\" checked><label for=\"sk-estimator-id-7\" class=\"sk-toggleable__label sk-toggleable__label-arrow\">RandomForestRegressor</label><div class=\"sk-toggleable__content\"><pre>RandomForestRegressor(n_estimators=10, random_state=0)</pre></div></div></div></div></div>"
      ],
      "text/plain": [
       "RandomForestRegressor(n_estimators=10, random_state=0)"
      ]
     },
     "execution_count": 41,
     "metadata": {},
     "output_type": "execute_result"
    }
   ],
   "source": [
    "randomForestRegressor = RandomForestRegressor(n_estimators=10, random_state=0)\n",
    "randomForestRegressor.fit(X_features, y_outcome.ravel()) # y_outcome should be 1D array, so using ravel() to make it 1D"
   ]
  },
  {
   "cell_type": "markdown",
   "id": "c146a58d",
   "metadata": {},
   "source": [
    "# Predicting a new result"
   ]
  },
  {
   "cell_type": "code",
   "execution_count": 42,
   "id": "d4dd5b63",
   "metadata": {},
   "outputs": [
    {
     "data": {
      "text/plain": [
       "array([167000.])"
      ]
     },
     "execution_count": 42,
     "metadata": {},
     "output_type": "execute_result"
    }
   ],
   "source": [
    "randomForestRegressor.predict([[6.5]])"
   ]
  },
  {
   "cell_type": "markdown",
   "id": "6590d1a3",
   "metadata": {},
   "source": [
    "# Visualising The Random Forest Regression results(higher resolution)"
   ]
  },
  {
   "cell_type": "markdown",
   "id": "5b13c1cc",
   "metadata": {},
   "source": [
    "Importing library for graph visualization"
   ]
  },
  {
   "cell_type": "code",
   "execution_count": 43,
   "id": "9487d4df",
   "metadata": {},
   "outputs": [],
   "source": [
    "import matplotlib.pyplot as plt\n",
    "import numpy as np"
   ]
  },
  {
   "cell_type": "markdown",
   "id": "acbb7e84",
   "metadata": {},
   "source": [
    "Ploting the graph"
   ]
  },
  {
   "cell_type": "code",
   "execution_count": 44,
   "id": "1646cee8",
   "metadata": {},
   "outputs": [
    {
     "data": {
      "image/png": "[encoded data removed]",
      "text/plain": [
       "<Figure size 640x480 with 1 Axes>"
      ]
     },
     "metadata": {},
     "output_type": "display_data"
    }
   ],
   "source": [
    "X_grid = np.arange(min(X_features), max(X_features), 0.01)\n",
    "X_grid = X_grid.reshape(len(X_grid), 1)\n",
    "plt.scatter(X_features, y_outcome, color=\"red\")\n",
    "plt.plot(X_grid, randomForestRegressor.predict(X_grid), color=\"blue\")\n",
    "plt.title(\"Truth or Bluf (Random Forest Regression)\")\n",
    "plt.xlabel(\"Position level\")\n",
    "plt.ylabel(\"Salary\")\n",
    "plt.show()"
   ]
  },
  {
   "cell_type": "markdown",
   "id": "92b0e407",
   "metadata": {},
   "source": [
    "here we will find more steps than what we gor in Decision tree"
   ]
  }
 ],
 "metadata": {
  "kernelspec": {
   "display_name": "Python 3 (ipykernel)",
   "language": "python",
   "name": "python3"
  },
  "language_info": {
   "codemirror_mode": {
    "name": "ipython",
    "version": 3
   },
   "file_extension": ".py",
   "mimetype": "text/x-python",
   "name": "python",
   "nbconvert_exporter": "python",
   "pygments_lexer": "ipython3",
   "version": "3.11.3"
  }
 },
 "nbformat": 4,
 "nbformat_minor": 5
}
