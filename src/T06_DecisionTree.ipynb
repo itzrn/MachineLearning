{
 "cells": [
  {
   "cell_type": "markdown",
   "id": "f680d503",
   "metadata": {},
   "source": [
    "# Decision Tree Regression"
   ]
  },
  {
   "cell_type": "markdown",
   "id": "44b64b2f",
   "metadata": {},
   "source": [
    "So you may have heard the term cart which stands for classification and regression trees. And this is an umbrella term that encompasses two types of decisions trees and they are classification trees and regression trees."
   ]
  },
  {
   "cell_type": "markdown",
   "id": "97e9ccc9",
   "metadata": {},
   "source": [
    "<img src=\"Image_Notes/T06_Cart.png\"/>"
   ]
  },
  {
   "cell_type": "markdown",
   "id": "69f8b67d",
   "metadata": {},
   "source": [
    "Here we are going to focus on the regression Trees. Regression trees are a bit more complex than classification Trees."
   ]
  },
  {
   "cell_type": "markdown",
   "id": "b72e1564",
   "metadata": {},
   "source": [
    "So once you run the regression tree or decision tree algorithm in regression sense of it what will happen is your scatterplot will be split up into segments and let's have a look at how an algorithm could go about doing that.\n",
    "<img src=\"Image_Notes/T06_DecisionTree.png\"/>\n",
    "Now how and where these splits are conducted is determined by the algorithm.And it is actually involves looking at something called the information entropy and it is a mathematical concept it is quite complex.\n",
    "So it basically means when I perform this split right is this split increasing amount of information that we have about our points.\n",
    "Is it actually adding some value to our the way that we want to group our points and the algorithm knows when to stop is when there is a certain minimum for the information that needs to be added.\n",
    "And once like it cannot add any more information to our set up by splitting these leaves they're called leaves so each one of the splits is called the leaf by splitting these leaves.\n",
    "Ones it can add more information than stops or in or the algorithm could let's say stop when you have less than 5 percent well if you were to conduct a split then you would have less than 5 percent of your total points in that leaf and then that leaf wouldn't be created.\n",
    "So there are different variations of different options for that to happen.\n",
    "And but look the most important thing is of course where the splits are happening.\n",
    "And if you'd like to learn more about that you'd you'd need to study a bit more about information entropy.\n",
    "<img src=\"Image_Notes/T06_Split.png\"/>\n",
    "There goes our For a split. So now we're going to start creating our decision tree.\n",
    "The split happened at 20 so let's start drawing. There is our first decision and we have two options. Yes and No.\n",
    "Next happens a split to split to happens at 170 and only happens for the points that are greater than 20. So that means you would check this condition X-1 is less than 20 meaning you checked no.\n",
    "The answer's no.\n",
    "And then you check if x 2 is less than 170 X-News less than once and then a split 3 happens on the other side and it checks if x 2 is less than 200.\n",
    "Let's add that here X to this and it and then split 4 happens at 40 and it checks if x 1 is greater or less than 40 and split for only happens for the point that answered to split one they answered. No it's not less than 20.\n",
    "And to split two they answered no. It's yes it's actually less than 170.\n",
    "So no not less than 20 years. It's less than 170. And then this split will four happens X-1 is less than 40. Yes.\n",
    "All right so that's our decision tree. It's done it's drawn.\n",
    "\n",
    "How what do we actually populate into those boxes. Well this is where we need to remember about our dependent variable. The third dimension and what we need to check here is how are we going to predict the value of y for a new observation that gets added to our scatterplot or our daughters.\n",
    "<img src=\"T06_Prediction.png\"/>\n",
    "So as you can see we've been adding these plates we've added information into our system.\n",
    "So how does that information that now we know that it falls into this terminal leaf.\n",
    "How does that information help us in terms of predicting the value of wife for that new element that we're going to add. Well the way it works is it's actually pretty straightforward. The way it works is you just take the averages of each of your terminal leaves. So you take the average of y for all of these points and that'll be the value that will be assigned to any new point that falls in this terminal. The same for this terminal leave Same for this terminal. Same for this one and same for us. So let's have a look. Let's say the average for why here are sixty five point seven The average for wise here is three hundred point five 1023 here. Minus sixty four point one zero points on here.\n",
    "\n",
    "And now the last time we are left to do is to add the values into our decision tree \n",
    "<img src=\"Image_Notes/T06_FinalTree.png\"/>"
   ]
  },
  {
   "cell_type": "code",
   "execution_count": 1,
   "id": "0d2b13a7",
   "metadata": {},
   "outputs": [],
   "source": [
    "import pandas as pd\n",
    "import numpy as np"
   ]
  },
  {
   "cell_type": "code",
   "execution_count": 2,
   "id": "f5071e61",
   "metadata": {},
   "outputs": [],
   "source": [
    "dataset = pd.read_csv(\"Datasets/T04_Position_Salaries.csv\")\n",
    "X_features = dataset.iloc[:, [1]].values\n",
    "y_outcome = dataset.iloc[:, -1].values"
   ]
  },
  {
   "cell_type": "code",
   "execution_count": 3,
   "id": "3149ae51",
   "metadata": {},
   "outputs": [
    {
     "name": "stdout",
     "output_type": "stream",
     "text": [
      "X_features -->\n",
      " [[ 1]\n",
      " [ 2]\n",
      " [ 3]\n",
      " [ 4]\n",
      " [ 5]\n",
      " [ 6]\n",
      " [ 7]\n",
      " [ 8]\n",
      " [ 9]\n",
      " [10]]\n",
      "y_outcome -->\n",
      " [  45000   50000   60000   80000  110000  150000  200000  300000  500000\n",
      " 1000000]\n"
     ]
    }
   ],
   "source": [
    "# printing the features and outcome\n",
    "print(\"X_features -->\\n\", X_features)\n",
    "print(\"y_outcome -->\\n\", y_outcome)"
   ]
  },
  {
   "cell_type": "markdown",
   "id": "af11a6ab",
   "metadata": {},
   "source": [
    "# Training the Decision Tree Regression Model On whole Dataset"
   ]
  },
  {
   "cell_type": "markdown",
   "id": "6a5a4c70",
   "metadata": {},
   "source": [
    "Here needs, no features scalling"
   ]
  },
  {
   "cell_type": "code",
   "execution_count": 4,
   "id": "f667fab3",
   "metadata": {},
   "outputs": [],
   "source": [
    "from sklearn.tree import DecisionTreeRegressor"
   ]
  },
  {
   "cell_type": "code",
   "execution_count": 5,
   "id": "61b52d1f",
   "metadata": {},
   "outputs": [
    {
     "data": {
      "text/html": [
       "<style>#sk-container-id-1 {color: black;background-color: white;}#sk-container-id-1 pre{padding: 0;}#sk-container-id-1 div.sk-toggleable {background-color: white;}#sk-container-id-1 label.sk-toggleable__label {cursor: pointer;display: block;width: 100%;margin-bottom: 0;padding: 0.3em;box-sizing: border-box;text-align: center;}#sk-container-id-1 label.sk-toggleable__label-arrow:before {content: \"▸\";float: left;margin-right: 0.25em;color: #696969;}#sk-container-id-1 label.sk-toggleable__label-arrow:hover:before {color: black;}#sk-container-id-1 div.sk-estimator:hover label.sk-toggleable__label-arrow:before {color: black;}#sk-container-id-1 div.sk-toggleable__content {max-height: 0;max-width: 0;overflow: hidden;text-align: left;background-color: #f0f8ff;}#sk-container-id-1 div.sk-toggleable__content pre {margin: 0.2em;color: black;border-radius: 0.25em;background-color: #f0f8ff;}#sk-container-id-1 input.sk-toggleable__control:checked~div.sk-toggleable__content {max-height: 200px;max-width: 100%;overflow: auto;}#sk-container-id-1 input.sk-toggleable__control:checked~label.sk-toggleable__label-arrow:before {content: \"▾\";}#sk-container-id-1 div.sk-estimator input.sk-toggleable__control:checked~label.sk-toggleable__label {background-color: #d4ebff;}#sk-container-id-1 div.sk-label input.sk-toggleable__control:checked~label.sk-toggleable__label {background-color: #d4ebff;}#sk-container-id-1 input.sk-hidden--visually {border: 0;clip: rect(1px 1px 1px 1px);clip: rect(1px, 1px, 1px, 1px);height: 1px;margin: -1px;overflow: hidden;padding: 0;position: absolute;width: 1px;}#sk-container-id-1 div.sk-estimator {font-family: monospace;background-color: #f0f8ff;border: 1px dotted black;border-radius: 0.25em;box-sizing: border-box;margin-bottom: 0.5em;}#sk-container-id-1 div.sk-estimator:hover {background-color: #d4ebff;}#sk-container-id-1 div.sk-parallel-item::after {content: \"\";width: 100%;border-bottom: 1px solid gray;flex-grow: 1;}#sk-container-id-1 div.sk-label:hover label.sk-toggleable__label {background-color: #d4ebff;}#sk-container-id-1 div.sk-serial::before {content: \"\";position: absolute;border-left: 1px solid gray;box-sizing: border-box;top: 0;bottom: 0;left: 50%;z-index: 0;}#sk-container-id-1 div.sk-serial {display: flex;flex-direction: column;align-items: center;background-color: white;padding-right: 0.2em;padding-left: 0.2em;position: relative;}#sk-container-id-1 div.sk-item {position: relative;z-index: 1;}#sk-container-id-1 div.sk-parallel {display: flex;align-items: stretch;justify-content: center;background-color: white;position: relative;}#sk-container-id-1 div.sk-item::before, #sk-container-id-1 div.sk-parallel-item::before {content: \"\";position: absolute;border-left: 1px solid gray;box-sizing: border-box;top: 0;bottom: 0;left: 50%;z-index: -1;}#sk-container-id-1 div.sk-parallel-item {display: flex;flex-direction: column;z-index: 1;position: relative;background-color: white;}#sk-container-id-1 div.sk-parallel-item:first-child::after {align-self: flex-end;width: 50%;}#sk-container-id-1 div.sk-parallel-item:last-child::after {align-self: flex-start;width: 50%;}#sk-container-id-1 div.sk-parallel-item:only-child::after {width: 0;}#sk-container-id-1 div.sk-dashed-wrapped {border: 1px dashed gray;margin: 0 0.4em 0.5em 0.4em;box-sizing: border-box;padding-bottom: 0.4em;background-color: white;}#sk-container-id-1 div.sk-label label {font-family: monospace;font-weight: bold;display: inline-block;line-height: 1.2em;}#sk-container-id-1 div.sk-label-container {text-align: center;}#sk-container-id-1 div.sk-container {/* jupyter's `normalize.less` sets `[hidden] { display: none; }` but bootstrap.min.css set `[hidden] { display: none !important; }` so we also need the `!important` here to be able to override the default hidden behavior on the sphinx rendered scikit-learn.org. See: https://github.com/scikit-learn/scikit-learn/issues/21755 */display: inline-block !important;position: relative;}#sk-container-id-1 div.sk-text-repr-fallback {display: none;}</style><div id=\"sk-container-id-1\" class=\"sk-top-container\"><div class=\"sk-text-repr-fallback\"><pre>DecisionTreeRegressor(random_state=0)</pre><b>In a Jupyter environment, please rerun this cell to show the HTML representation or trust the notebook. <br />On GitHub, the HTML representation is unable to render, please try loading this page with nbviewer.org.</b></div><div class=\"sk-container\" hidden><div class=\"sk-item\"><div class=\"sk-estimator sk-toggleable\"><input class=\"sk-toggleable__control sk-hidden--visually\" id=\"sk-estimator-id-1\" type=\"checkbox\" checked><label for=\"sk-estimator-id-1\" class=\"sk-toggleable__label sk-toggleable__label-arrow\">DecisionTreeRegressor</label><div class=\"sk-toggleable__content\"><pre>DecisionTreeRegressor(random_state=0)</pre></div></div></div></div></div>"
      ],
      "text/plain": [
       "DecisionTreeRegressor(random_state=0)"
      ]
     },
     "execution_count": 5,
     "metadata": {},
     "output_type": "execute_result"
    }
   ],
   "source": [
    "dT = DecisionTreeRegressor(random_state=0)\n",
    "dT.fit(X_features, y_outcome)"
   ]
  },
  {
   "cell_type": "markdown",
   "id": "a9bac92c",
   "metadata": {},
   "source": [
    "# Predicting new Result"
   ]
  },
  {
   "cell_type": "code",
   "execution_count": 6,
   "id": "543b6210",
   "metadata": {},
   "outputs": [
    {
     "name": "stdout",
     "output_type": "stream",
     "text": [
      "[150000.]\n"
     ]
    }
   ],
   "source": [
    "print(dT.predict([[6.5]]))"
   ]
  },
  {
   "cell_type": "markdown",
   "id": "98e33b60",
   "metadata": {},
   "source": [
    "# Visualising the Decision Tree Regression results(higher resolution)"
   ]
  },
  {
   "cell_type": "code",
   "execution_count": 7,
   "id": "12b45b87",
   "metadata": {},
   "outputs": [
    {
     "data": {
      "image/png": "[encoded data removed]",
      "text/plain": [
       "<Figure size 640x480 with 1 Axes>"
      ]
     },
     "metadata": {},
     "output_type": "display_data"
    }
   ],
   "source": [
    "import matplotlib.pyplot as plt\n",
    "X_grid = np.arange(min(X_features), max(X_features), 0.1)\n",
    "X_grid = X_grid.reshape(len(X_grid), 1)\n",
    "plt.scatter(X_features, y_outcome, color=\"red\")\n",
    "plt.plot(X_grid, dT.predict(X_grid), color=\"blue\")\n",
    "plt.title(\"Truth or Bluf(Decision Tree Resgressor)\")\n",
    "plt.xlabel(\"Position level\")\n",
    "plt.ylabel(\"Salary\")\n",
    "plt.show()"
   ]
  },
  {
   "cell_type": "markdown",
   "id": "702cb150",
   "metadata": {},
   "source": [
    "The Decision Tree Regression model is really not the best adapted to two dimensional data sets, you know, with only one feature and one depend variable. But once again, I'd like to remind that the implementation we have here can be very easily adapted to any other dataset."
   ]
  },
  {
   "cell_type": "markdown",
   "id": "0ee8cbe0",
   "metadata": {},
   "source": [
    "<img src=\"Image_Notes/T06_DecisionTreePsedoCode.png\"/>"
   ]
  },
  {
   "cell_type": "markdown",
   "id": "6a976370",
   "metadata": {},
   "source": [
    "<img src=\"Image_Notes/T06_Conclusion.png\"/>"
   ]
  }
 ],
 "metadata": {
  "kernelspec": {
   "display_name": "Python 3 (ipykernel)",
   "language": "python",
   "name": "python3"
  },
  "language_info": {
   "codemirror_mode": {
    "name": "ipython",
    "version": 3
   },
   "file_extension": ".py",
   "mimetype": "text/x-python",
   "name": "python",
   "nbconvert_exporter": "python",
   "pygments_lexer": "ipython3",
   "version": "3.11.3"
  }
 },
 "nbformat": 4,
 "nbformat_minor": 5
}
