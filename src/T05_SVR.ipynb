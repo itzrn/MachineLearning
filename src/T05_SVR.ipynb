{
 "cells": [
  {
   "cell_type": "markdown",
   "id": "e6001d75",
   "metadata": {},
   "source": [
    "# Support Vector Regression(Linear)"
   ]
  },
  {
   "cell_type": "markdown",
   "id": "bcd20c07",
   "metadata": {},
   "source": [
    "when this concept is applied for regression then called Support Vector Regression and when this concept is applied for calssification then called Support Vector Classification "
   ]
  },
  {
   "cell_type": "markdown",
   "id": "a6e5121c",
   "metadata": {},
   "source": [
    "To understand the above concept we have to understand SVM\n",
    "The objective of the SVM algo is to find a hyperplane in an N dimensional space(N - the number of features). that distinctly classifies the data points"
   ]
  },
  {
   "cell_type": "markdown",
   "id": "775c92d8",
   "metadata": {},
   "source": [
    "here we are this concept for linear data(having one feature and outcome)\n"
   ]
  },
  {
   "cell_type": "markdown",
   "id": "bb86bf02",
   "metadata": {},
   "source": [
    "How does the Support Vector Regression work?\n",
    "<img src='Image_Notes/T05_SVR_01.png'/>\n",
    "With SVR, instead of a simple line, you'll see a tube. And here you have the regression line in the middle\n",
    "but then there's this tube around it and what does this tube do?\n",
    "Well, this tube has a width of epsilon and the width has measured vertically.\n",
    "It's important along this axis, not perpendicular to the tube but vertically.\n",
    "And this tube itself is called the epsilon-insensitive tube. \n",
    "And what does that mean?\n",
    "Well, that means that any points in our data set that fall inside the tube, for them, we'll be disregarding the error.\n",
    "So basically this tube, think of it as a a margin of error that we are allowing our model to have\n",
    "and not care about any error inside here. So any discrepancy between or any like distance\n",
    "between this point over here and the line as in, for instance here, we could see,\n",
    "let's look at which point is that? That's one, two, three. This third point, you can see the line is even different, right?\n",
    "The results can be different and probably will be different. So this third point here, there's a distance between the line here and we care about this error here. We don't care about this error\n",
    "because it falls within this epsilon- insensitive tube. So we're disregarding any kind of errors in here. And that's kind of the key behind Support Vector Regression.\n",
    "And for them we do care about the error. And here it will be measured as the distance\n",
    "between the point and the tube itself.\n",
    "\n",
    "Slack variables are those point which is outside the cylinder.\n",
    "\n",
    "why is this a method called Support Vector Regression?\n",
    "Well, because effectively, these points, all of these points outside, but any point actually,\n",
    "any point on this plot is a vector, right? Can be represented as a vector in this two dimensional space or a multidimensional space if you have more features. So in this case it can presented by two dimensional victors. So they are all these points of vectors but the ones that we've highlighted and read, the ones outside the tube, they're the support vectors because they are dictating how this tube is created. So basically they're supporting the structure\n",
    "or formation of this tube. And that's why they're called support vectors."
   ]
  },
  {
   "cell_type": "code",
   "execution_count": 15,
   "id": "764d7bb0",
   "metadata": {},
   "outputs": [],
   "source": [
    "import numpy as np\n",
    "import pandas as pd"
   ]
  },
  {
   "cell_type": "markdown",
   "id": "7de5b6af",
   "metadata": {},
   "source": [
    "Importing dataset"
   ]
  },
  {
   "cell_type": "code",
   "execution_count": 16,
   "id": "f1fc8c35",
   "metadata": {},
   "outputs": [],
   "source": [
    "dataset = pd.read_csv(\"Datasets/T04_Position_Salaries.csv\")\n",
    "X_features = dataset.iloc[:, 1:-1].values\n",
    "y_outcome = dataset.iloc[:, [-1]].values"
   ]
  },
  {
   "cell_type": "code",
   "execution_count": 17,
   "id": "fd6a43ca",
   "metadata": {},
   "outputs": [
    {
     "name": "stdout",
     "output_type": "stream",
     "text": [
      "[[ 1  2  3  4  5  6  7  8  9 10]]\n"
     ]
    }
   ],
   "source": [
    "# printing X_features in horizontal, using reshape fun, doesn't mean its shape got change\n",
    "print(X_features.reshape(1, len(X_features)))"
   ]
  },
  {
   "cell_type": "code",
   "execution_count": 18,
   "id": "0f5d4274",
   "metadata": {},
   "outputs": [
    {
     "name": "stdout",
     "output_type": "stream",
     "text": [
      "[[  45000   50000   60000   80000  110000  150000  200000  300000  500000\n",
      "  1000000]]\n"
     ]
    }
   ],
   "source": [
    "# printing y_outcome in horizontal\n",
    "print(y_outcome.reshape(1, len(y_outcome)))"
   ]
  },
  {
   "cell_type": "markdown",
   "id": "0855e61e",
   "metadata": {},
   "source": [
    "Well, you know, we don't have to apply feature scaling for linear regression models where you have indeed those coefficients that can compensate with the high values of the features.\n",
    "And so, of course these include Simple Linear Regression, Multiple Linear Regression,\n",
    "and Polynomial Regression. And you will see later on in the course many other models.\n",
    "And for other models which usually have an implicit equation, you know,\n",
    "an implicit relationship between the dependent variable Y and the features X,\n",
    "well, usually for these models we have to apply feature scaling.\n",
    "\n"
   ]
  },
  {
   "cell_type": "markdown",
   "id": "651be504",
   "metadata": {},
   "source": [
    "# Feature Scalling"
   ]
  },
  {
   "cell_type": "markdown",
   "id": "4987a2f1",
   "metadata": {},
   "source": [
    "This is our new dataset, Position_Salaries where the features are indeed,\n",
    "the levels going from 1 to 10 and the dependent variable taking values\n",
    "from 45,000 to 1 million. And so now I have a question for you,\n",
    "and after answering this question, you will know what to do in any feature scaling situation,\n",
    "so according to you, do we have to apply feature scaling to this dependent variable, the salary?\n",
    "And the answer is, well, yes. I'm sure you get that right.\n",
    "Indeed, we have to apply feature scaling because same, we don't want this feature,\n",
    "which takes values much lower than the values of the dependent variable to be neglected by the SVR model. And that even if there is not an explicit equation,\n",
    "you know, like in multiple linear regression, this is an explicit equation y=B0+B1X1+B2X2+....+BnXn because Y is explicitly resulting from a linear combination of the features. And for our SVR model, this is not the case. We have an implicit equation\n",
    "but still through this implicit equation, well, if the salary is way higher than the features\n",
    "and here this is absolutely the case,well, accordingly the feature might be neglected by the model. And actually I of course try to build this SVR model without applying feature scaling.\n",
    "And you can check that this absolutely doesn't work. Indeed, if we don't apply feature scaling\n",
    "for our SVR implementation and training on this dataset, well, you will see that the SVR model will not work at all. So we have to apply feature scaling here on both the feature where the values go from 1 to 10 and the dependent variable taking values from 45,000 to 1 million.\n",
    "All right, and so now you know everything about feature scaling. You know what to do in any situation. You know that you don't apply feature scaling to some dummy variables resulting from one-hot encoding. You know that when a dependent variable takes binary values like 0 and 1, you don't have to apply feature scaling either because the values are already in the right range.\n",
    "You also know that when the dependent variable takes super high values with respect to the other features, then you have to apply feature scaling to put all the features and the dependent variable in the same range, and finally, you also know that whenever you want to split your dataset into the training set and the test set, well, you have to apply feature scaling\n",
    "after the split."
   ]
  },
  {
   "cell_type": "code",
   "execution_count": 19,
   "id": "f17919eb",
   "metadata": {},
   "outputs": [
    {
     "name": "stdout",
     "output_type": "stream",
     "text": [
      "[[-1.5666989 ]\n",
      " [-1.21854359]\n",
      " [-0.87038828]\n",
      " [-0.52223297]\n",
      " [-0.17407766]\n",
      " [ 0.17407766]\n",
      " [ 0.52223297]\n",
      " [ 0.87038828]\n",
      " [ 1.21854359]\n",
      " [ 1.5666989 ]]\n"
     ]
    }
   ],
   "source": [
    "# doing standardization, and we will not split the dataset into training and test set\n",
    "# bcz we are taking whole as training set\n",
    "# importing Standardization\n",
    "from sklearn.preprocessing import StandardScaler\n",
    "sc_X = StandardScaler()\n",
    "X_features = sc_X.fit_transform(X_features)\n",
    "print(X_features)"
   ]
  },
  {
   "cell_type": "markdown",
   "id": "9e2eecf1",
   "metadata": {},
   "source": [
    "We are not gonna use the same standard scaler object on both the matrix of features X\n",
    "and the dependent variable vector Y. \n",
    "Why is that?\n",
    "That's because you know when you fit your object as sc_X on your data, while it is going to compute the mean and the standard deviation of that same variable and therefore, since of course we don't have the same mean and same standard deviation\n",
    "for our levels here and our salaries, well obviously we have to create two standard scaler object\n",
    "one that will be fitted to X in order to compute the mean and standard deviation of the position levels, and one that will be fitted to Y to indeed compute the mean and the standard deviation of the salaries."
   ]
  },
  {
   "cell_type": "code",
   "execution_count": 20,
   "id": "3464adc4",
   "metadata": {},
   "outputs": [
    {
     "name": "stdout",
     "output_type": "stream",
     "text": [
      "[[-0.72004253]\n",
      " [-0.70243757]\n",
      " [-0.66722767]\n",
      " [-0.59680786]\n",
      " [-0.49117815]\n",
      " [-0.35033854]\n",
      " [-0.17428902]\n",
      " [ 0.17781001]\n",
      " [ 0.88200808]\n",
      " [ 2.64250325]]\n"
     ]
    }
   ],
   "source": [
    "sc_y = StandardScaler()\n",
    "y_outcome = sc_y.fit_transform(y_outcome)\n",
    "print(y_outcome)"
   ]
  },
  {
   "cell_type": "markdown",
   "id": "adf72d7f",
   "metadata": {},
   "source": [
    "Then we will of course train the SVR model on the whole data set.\n",
    "You know, this time is the same. We won't split the whole data set\n",
    "into a training set and a test set because we want to leverage the maximum data\n",
    "to learn these correlations between those position levels and the salaries.\n",
    "So, we won't do that split and we will directly train the SVR model on the whole data set.\n",
    "Then after this training, well we'll have a smart SVR model which, therefore, we're gonna use to predict this new result and exactly that salary of this position level of 6.5. And we will compare of course that prediction with the prediction of the Polynomial Regression model, which I've kept here."
   ]
  },
  {
   "cell_type": "markdown",
   "id": "b1fbbf55",
   "metadata": {},
   "source": [
    "# Training The SVR model on the whole Datatset"
   ]
  },
  {
   "cell_type": "code",
   "execution_count": 21,
   "id": "821b90ed",
   "metadata": {},
   "outputs": [],
   "source": [
    "# importing the svr lib\n",
    "from sklearn.svm import SVR"
   ]
  },
  {
   "cell_type": "code",
   "execution_count": 22,
   "id": "df180748",
   "metadata": {},
   "outputs": [
    {
     "name": "stderr",
     "output_type": "stream",
     "text": [
      "C:\\Users\\dhara\\anaconda3\\Lib\\site-packages\\sklearn\\utils\\validation.py:1143: DataConversionWarning: A column-vector y was passed when a 1d array was expected. Please change the shape of y to (n_samples, ), for example using ravel().\n",
      "  y = column_or_1d(y, warn=True)\n"
     ]
    },
    {
     "data": {
      "text/html": [
       "<style>#sk-container-id-2 {color: black;background-color: white;}#sk-container-id-2 pre{padding: 0;}#sk-container-id-2 div.sk-toggleable {background-color: white;}#sk-container-id-2 label.sk-toggleable__label {cursor: pointer;display: block;width: 100%;margin-bottom: 0;padding: 0.3em;box-sizing: border-box;text-align: center;}#sk-container-id-2 label.sk-toggleable__label-arrow:before {content: \"▸\";float: left;margin-right: 0.25em;color: #696969;}#sk-container-id-2 label.sk-toggleable__label-arrow:hover:before {color: black;}#sk-container-id-2 div.sk-estimator:hover label.sk-toggleable__label-arrow:before {color: black;}#sk-container-id-2 div.sk-toggleable__content {max-height: 0;max-width: 0;overflow: hidden;text-align: left;background-color: #f0f8ff;}#sk-container-id-2 div.sk-toggleable__content pre {margin: 0.2em;color: black;border-radius: 0.25em;background-color: #f0f8ff;}#sk-container-id-2 input.sk-toggleable__control:checked~div.sk-toggleable__content {max-height: 200px;max-width: 100%;overflow: auto;}#sk-container-id-2 input.sk-toggleable__control:checked~label.sk-toggleable__label-arrow:before {content: \"▾\";}#sk-container-id-2 div.sk-estimator input.sk-toggleable__control:checked~label.sk-toggleable__label {background-color: #d4ebff;}#sk-container-id-2 div.sk-label input.sk-toggleable__control:checked~label.sk-toggleable__label {background-color: #d4ebff;}#sk-container-id-2 input.sk-hidden--visually {border: 0;clip: rect(1px 1px 1px 1px);clip: rect(1px, 1px, 1px, 1px);height: 1px;margin: -1px;overflow: hidden;padding: 0;position: absolute;width: 1px;}#sk-container-id-2 div.sk-estimator {font-family: monospace;background-color: #f0f8ff;border: 1px dotted black;border-radius: 0.25em;box-sizing: border-box;margin-bottom: 0.5em;}#sk-container-id-2 div.sk-estimator:hover {background-color: #d4ebff;}#sk-container-id-2 div.sk-parallel-item::after {content: \"\";width: 100%;border-bottom: 1px solid gray;flex-grow: 1;}#sk-container-id-2 div.sk-label:hover label.sk-toggleable__label {background-color: #d4ebff;}#sk-container-id-2 div.sk-serial::before {content: \"\";position: absolute;border-left: 1px solid gray;box-sizing: border-box;top: 0;bottom: 0;left: 50%;z-index: 0;}#sk-container-id-2 div.sk-serial {display: flex;flex-direction: column;align-items: center;background-color: white;padding-right: 0.2em;padding-left: 0.2em;position: relative;}#sk-container-id-2 div.sk-item {position: relative;z-index: 1;}#sk-container-id-2 div.sk-parallel {display: flex;align-items: stretch;justify-content: center;background-color: white;position: relative;}#sk-container-id-2 div.sk-item::before, #sk-container-id-2 div.sk-parallel-item::before {content: \"\";position: absolute;border-left: 1px solid gray;box-sizing: border-box;top: 0;bottom: 0;left: 50%;z-index: -1;}#sk-container-id-2 div.sk-parallel-item {display: flex;flex-direction: column;z-index: 1;position: relative;background-color: white;}#sk-container-id-2 div.sk-parallel-item:first-child::after {align-self: flex-end;width: 50%;}#sk-container-id-2 div.sk-parallel-item:last-child::after {align-self: flex-start;width: 50%;}#sk-container-id-2 div.sk-parallel-item:only-child::after {width: 0;}#sk-container-id-2 div.sk-dashed-wrapped {border: 1px dashed gray;margin: 0 0.4em 0.5em 0.4em;box-sizing: border-box;padding-bottom: 0.4em;background-color: white;}#sk-container-id-2 div.sk-label label {font-family: monospace;font-weight: bold;display: inline-block;line-height: 1.2em;}#sk-container-id-2 div.sk-label-container {text-align: center;}#sk-container-id-2 div.sk-container {/* jupyter's `normalize.less` sets `[hidden] { display: none; }` but bootstrap.min.css set `[hidden] { display: none !important; }` so we also need the `!important` here to be able to override the default hidden behavior on the sphinx rendered scikit-learn.org. See: https://github.com/scikit-learn/scikit-learn/issues/21755 */display: inline-block !important;position: relative;}#sk-container-id-2 div.sk-text-repr-fallback {display: none;}</style><div id=\"sk-container-id-2\" class=\"sk-top-container\"><div class=\"sk-text-repr-fallback\"><pre>SVR()</pre><b>In a Jupyter environment, please rerun this cell to show the HTML representation or trust the notebook. <br />On GitHub, the HTML representation is unable to render, please try loading this page with nbviewer.org.</b></div><div class=\"sk-container\" hidden><div class=\"sk-item\"><div class=\"sk-estimator sk-toggleable\"><input class=\"sk-toggleable__control sk-hidden--visually\" id=\"sk-estimator-id-2\" type=\"checkbox\" checked><label for=\"sk-estimator-id-2\" class=\"sk-toggleable__label sk-toggleable__label-arrow\">SVR</label><div class=\"sk-toggleable__content\"><pre>SVR()</pre></div></div></div></div></div>"
      ],
      "text/plain": [
       "SVR()"
      ]
     },
     "execution_count": 22,
     "metadata": {},
     "output_type": "execute_result"
    }
   ],
   "source": [
    "svr = SVR(kernel='rbf')  # here kernel is Gaussian Radial Basis Function, which is the most widely used one kernel\n",
    "svr.fit(X_features, y_outcome)\n",
    "# know about kernel -> https://data-flair.training/blogs/svm-kernel-functions/"
   ]
  },
  {
   "cell_type": "markdown",
   "id": "7acb20a5",
   "metadata": {},
   "source": [
    "# Predicting a new result"
   ]
  },
  {
   "cell_type": "markdown",
   "id": "53c6323f",
   "metadata": {},
   "source": [
    "This(predicted function) will take the scaled value of the feature bcz on our features we have applied Feature scalling.\n",
    "The predicted value which will come that also be a scaled value as we have applied Feature scalling on that too, the ouput value have to converted to the unscaled form."
   ]
  },
  {
   "cell_type": "code",
   "execution_count": 23,
   "id": "a8301ac2",
   "metadata": {},
   "outputs": [
    {
     "name": "stdout",
     "output_type": "stream",
     "text": [
      "[-0.27861589]\n"
     ]
    }
   ],
   "source": [
    "x = sc_X.transform([[6.5]])  # tranfromed 6.5 using feature scalling, transfrom method accepts 2D array\n",
    "y = svr.predict(x)\n",
    "print(y)"
   ]
  },
  {
   "cell_type": "markdown",
   "id": "81e2ead3",
   "metadata": {},
   "source": [
    "For the above outcome we have to apply reverse scalling to get the output in original form.\n",
    "Which can be done by the method called inverse_transform()"
   ]
  },
  {
   "cell_type": "code",
   "execution_count": 24,
   "id": "3d175b03",
   "metadata": {},
   "outputs": [
    {
     "name": "stdout",
     "output_type": "stream",
     "text": [
      "Original predicted value ->\n",
      " [[170370.0204065]]\n"
     ]
    }
   ],
   "source": [
    "y=y.reshape(-1,1)  # inverse_transform takes 2D array, so to avoid format error, reshaping y here\n",
    "print(\"Original predicted value ->\\n\", sc_y.inverse_transform(y))"
   ]
  },
  {
   "cell_type": "markdown",
   "id": "315729d0",
   "metadata": {},
   "source": [
    "#  Visualising the SVR results"
   ]
  },
  {
   "cell_type": "code",
   "execution_count": 25,
   "id": "61a415d0",
   "metadata": {},
   "outputs": [],
   "source": [
    "import matplotlib.pyplot as plt"
   ]
  },
  {
   "cell_type": "code",
   "execution_count": 26,
   "id": "a95b2e1e",
   "metadata": {},
   "outputs": [
    {
     "data": {
      "text/plain": [
       "<function matplotlib.pyplot.show(close=None, block=None)>"
      ]
     },
     "execution_count": 26,
     "metadata": {},
     "output_type": "execute_result"
    },
    {
     "data": {
      "image/png": "[encoded data removed]",
      "text/plain": [
       "<Figure size 640x480 with 1 Axes>"
      ]
     },
     "metadata": {},
     "output_type": "display_data"
    }
   ],
   "source": [
    "plt.scatter(sc_X.inverse_transform(X_features), sc_y.inverse_transform(y_outcome), color='red')\n",
    "plt.plot(sc_X.inverse_transform(X_features), sc_y.inverse_transform(svr.predict(X_features).reshape(-1,1)), color='blue')\n",
    "plt.title('Truth and bluf(SVR)')\n",
    "plt.xlabel('Position Level')\n",
    "plt.ylabel('Salary')\n",
    "plt.show"
   ]
  },
  {
   "cell_type": "markdown",
   "id": "b19613fc",
   "metadata": {},
   "source": [
    "# Visualising The SVR results(for higher resolution and smoother curve)"
   ]
  },
  {
   "cell_type": "code",
   "execution_count": 27,
   "id": "c4ba83dc",
   "metadata": {},
   "outputs": [
    {
     "data": {
      "text/plain": [
       "<function matplotlib.pyplot.show(close=None, block=None)>"
      ]
     },
     "execution_count": 27,
     "metadata": {},
     "output_type": "execute_result"
    },
    {
     "data": {
      "image/png": "[encoded data removed]",
      "text/plain": [
       "<Figure size 640x480 with 1 Axes>"
      ]
     },
     "metadata": {},
     "output_type": "display_data"
    }
   ],
   "source": [
    "X_grid = np.arange(min(sc_X.inverse_transform(X_features)), max(sc_X.inverse_transform(X_features)), 0.1)\n",
    "X_grid = X_grid.reshape((len(X_grid), 1))\n",
    "plt.scatter(sc_X.inverse_transform(X_features), sc_y.inverse_transform(y_outcome), color='red')\n",
    "plt.plot(X_grid, sc_y.inverse_transform(svr.predict(sc_X.transform(X_grid)).reshape(-1,1)), color='blue')\n",
    "plt.title('Truth and bluf(SVR)')\n",
    "plt.xlabel('Position Level')\n",
    "plt.ylabel('Salary')\n",
    "plt.show"
   ]
  }
 ],
 "metadata": {
  "kernelspec": {
   "display_name": "Python 3 (ipykernel)",
   "language": "python",
   "name": "python3"
  },
  "language_info": {
   "codemirror_mode": {
    "name": "ipython",
    "version": 3
   },
   "file_extension": ".py",
   "mimetype": "text/x-python",
   "name": "python",
   "nbconvert_exporter": "python",
   "pygments_lexer": "ipython3",
   "version": "3.11.3"
  }
 },
 "nbformat": 4,
 "nbformat_minor": 5
}
